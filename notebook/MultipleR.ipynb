{
 "cells": [
  {
   "cell_type": "markdown",
   "metadata": {},
   "source": [
    "Name: Tsai, Yu-Yun"
   ]
  },
  {
   "cell_type": "code",
   "execution_count": 1,
   "metadata": {},
   "outputs": [],
   "source": [
    "import numpy as np\n",
    "import pandas as pd\n",
    "import numpy as np\n",
    "import seaborn as sns\n",
    "import matplotlib.pyplot as plt\n",
    "from statistics import mean\n",
    "#(c)\n",
    "from sklearn.linear_model import LinearRegression\n",
    "import statsmodels.formula.api as smf\n",
    "#(d)\n",
    "import statsmodels.api as sm\n",
    "#(f)\n",
    "from sklearn.preprocessing import PolynomialFeatures\n",
    "#(h)\n",
    "from sklearn.model_selection import train_test_split\n",
    "#(i)\n",
    "from sklearn.neighbors import KNeighborsRegressor\n",
    "from sklearn.preprocessing import MinMaxScaler\n",
    "from sklearn.metrics import mean_squared_error\n"
   ]
  },
  {
   "cell_type": "markdown",
   "metadata": {},
   "source": [
    "1. Combined Cycle Power Plant Data Set\n",
    "The dataset contains data points collected from a Combined Cycle Power Plant over 6 years (2006-2011), when the power plant was set to work with full load. Features consist of hourly average ambient variables Temperature (AT), Ambient Pressure (AP), Relative Humidity (RH) and Exhaust Vacuum (V) to predict the net hourly electrical energy output (PE) of the plant.\n",
    "\n",
    "(a) Download the Combined Cycle Power Plant data1 from: https://archive.ics.uci.edu/ml/datasets/Combined+Cycle+Power+Plant\n"
   ]
  },
  {
   "cell_type": "code",
   "execution_count": 2,
   "metadata": {},
   "outputs": [
    {
     "data": {
      "text/html": [
       "<div>\n",
       "<style scoped>\n",
       "    .dataframe tbody tr th:only-of-type {\n",
       "        vertical-align: middle;\n",
       "    }\n",
       "\n",
       "    .dataframe tbody tr th {\n",
       "        vertical-align: top;\n",
       "    }\n",
       "\n",
       "    .dataframe thead th {\n",
       "        text-align: right;\n",
       "    }\n",
       "</style>\n",
       "<table border=\"1\" class=\"dataframe\">\n",
       "  <thead>\n",
       "    <tr style=\"text-align: right;\">\n",
       "      <th></th>\n",
       "      <th>AT</th>\n",
       "      <th>V</th>\n",
       "      <th>AP</th>\n",
       "      <th>RH</th>\n",
       "      <th>PE</th>\n",
       "    </tr>\n",
       "  </thead>\n",
       "  <tbody>\n",
       "    <tr>\n",
       "      <th>0</th>\n",
       "      <td>14.96</td>\n",
       "      <td>41.76</td>\n",
       "      <td>1024.07</td>\n",
       "      <td>73.17</td>\n",
       "      <td>463.26</td>\n",
       "    </tr>\n",
       "    <tr>\n",
       "      <th>1</th>\n",
       "      <td>25.18</td>\n",
       "      <td>62.96</td>\n",
       "      <td>1020.04</td>\n",
       "      <td>59.08</td>\n",
       "      <td>444.37</td>\n",
       "    </tr>\n",
       "    <tr>\n",
       "      <th>2</th>\n",
       "      <td>5.11</td>\n",
       "      <td>39.40</td>\n",
       "      <td>1012.16</td>\n",
       "      <td>92.14</td>\n",
       "      <td>488.56</td>\n",
       "    </tr>\n",
       "    <tr>\n",
       "      <th>3</th>\n",
       "      <td>20.86</td>\n",
       "      <td>57.32</td>\n",
       "      <td>1010.24</td>\n",
       "      <td>76.64</td>\n",
       "      <td>446.48</td>\n",
       "    </tr>\n",
       "    <tr>\n",
       "      <th>4</th>\n",
       "      <td>10.82</td>\n",
       "      <td>37.50</td>\n",
       "      <td>1009.23</td>\n",
       "      <td>96.62</td>\n",
       "      <td>473.90</td>\n",
       "    </tr>\n",
       "    <tr>\n",
       "      <th>...</th>\n",
       "      <td>...</td>\n",
       "      <td>...</td>\n",
       "      <td>...</td>\n",
       "      <td>...</td>\n",
       "      <td>...</td>\n",
       "    </tr>\n",
       "    <tr>\n",
       "      <th>9563</th>\n",
       "      <td>16.65</td>\n",
       "      <td>49.69</td>\n",
       "      <td>1014.01</td>\n",
       "      <td>91.00</td>\n",
       "      <td>460.03</td>\n",
       "    </tr>\n",
       "    <tr>\n",
       "      <th>9564</th>\n",
       "      <td>13.19</td>\n",
       "      <td>39.18</td>\n",
       "      <td>1023.67</td>\n",
       "      <td>66.78</td>\n",
       "      <td>469.62</td>\n",
       "    </tr>\n",
       "    <tr>\n",
       "      <th>9565</th>\n",
       "      <td>31.32</td>\n",
       "      <td>74.33</td>\n",
       "      <td>1012.92</td>\n",
       "      <td>36.48</td>\n",
       "      <td>429.57</td>\n",
       "    </tr>\n",
       "    <tr>\n",
       "      <th>9566</th>\n",
       "      <td>24.48</td>\n",
       "      <td>69.45</td>\n",
       "      <td>1013.86</td>\n",
       "      <td>62.39</td>\n",
       "      <td>435.74</td>\n",
       "    </tr>\n",
       "    <tr>\n",
       "      <th>9567</th>\n",
       "      <td>21.60</td>\n",
       "      <td>62.52</td>\n",
       "      <td>1017.23</td>\n",
       "      <td>67.87</td>\n",
       "      <td>453.28</td>\n",
       "    </tr>\n",
       "  </tbody>\n",
       "</table>\n",
       "<p>9568 rows × 5 columns</p>\n",
       "</div>"
      ],
      "text/plain": [
       "         AT      V       AP     RH      PE\n",
       "0     14.96  41.76  1024.07  73.17  463.26\n",
       "1     25.18  62.96  1020.04  59.08  444.37\n",
       "2      5.11  39.40  1012.16  92.14  488.56\n",
       "3     20.86  57.32  1010.24  76.64  446.48\n",
       "4     10.82  37.50  1009.23  96.62  473.90\n",
       "...     ...    ...      ...    ...     ...\n",
       "9563  16.65  49.69  1014.01  91.00  460.03\n",
       "9564  13.19  39.18  1023.67  66.78  469.62\n",
       "9565  31.32  74.33  1012.92  36.48  429.57\n",
       "9566  24.48  69.45  1013.86  62.39  435.74\n",
       "9567  21.60  62.52  1017.23  67.87  453.28\n",
       "\n",
       "[9568 rows x 5 columns]"
      ]
     },
     "execution_count": 2,
     "metadata": {},
     "output_type": "execute_result"
    }
   ],
   "source": [
    "ccpp = pd.read_excel('Folds5x2_pp.xlsx')\n",
    "ccpp"
   ]
  },
  {
   "cell_type": "markdown",
   "metadata": {},
   "source": [
    "(b) Exploring the data:\n",
    "\n",
    "i. How many rows are in this data set? How many columns? What do the rows and columns represent?"
   ]
  },
  {
   "cell_type": "markdown",
   "metadata": {},
   "source": [
    "1. There are 9568 rows and 5 columns in the data set.\n",
    "2. Independent Variable Columns: AT,V,AP,and RH.\n",
    "    Dependent Variable Columns: PE"
   ]
  },
  {
   "cell_type": "markdown",
   "metadata": {},
   "source": [
    "ii. Make pairwise scatterplots of all the varianbles in the data set including the predictors (independent variables) with the dependent variable. Describe your findings."
   ]
  },
  {
   "cell_type": "code",
   "execution_count": 3,
   "metadata": {
    "scrolled": true
   },
   "outputs": [
    {
     "data": {
      "text/plain": [
       "AT    float64\n",
       "V     float64\n",
       "AP    float64\n",
       "RH    float64\n",
       "PE    float64\n",
       "dtype: object"
      ]
     },
     "execution_count": 3,
     "metadata": {},
     "output_type": "execute_result"
    }
   ],
   "source": [
    "ccpp.dtypes"
   ]
  },
  {
   "cell_type": "code",
   "execution_count": 4,
   "metadata": {},
   "outputs": [
    {
     "data": {
      "image/png": "[encoded data removed]",
      "text/plain": [
       "<Figure size 900x900 with 30 Axes>"
      ]
     },
     "metadata": {
      "needs_background": "light"
     },
     "output_type": "display_data"
    },
    {
     "name": "stdout",
     "output_type": "stream",
     "text": [
      "The relationship between AT and dependent variable PE is linear\n",
      "The relationship between V and dependent variable PE is linear\n"
     ]
    }
   ],
   "source": [
    "#pairwise scatterplots\n",
    "sns.pairplot(data = ccpp)\n",
    "plt.subplots_adjust(top=0.7)\n",
    "plt.show()\n",
    "print(\"The relationship between AT and dependent variable PE is linear\")\n",
    "print(\"The relationship between V and dependent variable PE is linear\")"
   ]
  },
  {
   "cell_type": "markdown",
   "metadata": {},
   "source": [
    "iii. What are the mean, the median, range, first and third quartiles, and in- terquartile ranges of each of the variables in the dataset? Summarize them in a table."
   ]
  },
  {
   "cell_type": "code",
   "execution_count": 5,
   "metadata": {},
   "outputs": [],
   "source": [
    "Mean = ccpp.mean()\n",
    "Median = ccpp.median()\n",
    "Range = ccpp.max() - ccpp.min()\n",
    "#First quartile\n",
    "Quantile_1 = ccpp.quantile(0.25)\n",
    "#Thrid quantile\n",
    "Quantile_3 = ccpp.quantile(0.75)\n",
    "#Interquartile ranges\n",
    "Interquartile = Quantile_3 - Quantile_1"
   ]
  },
  {
   "cell_type": "code",
   "execution_count": 6,
   "metadata": {},
   "outputs": [
    {
     "data": {
      "text/html": [
       "<div>\n",
       "<style scoped>\n",
       "    .dataframe tbody tr th:only-of-type {\n",
       "        vertical-align: middle;\n",
       "    }\n",
       "\n",
       "    .dataframe tbody tr th {\n",
       "        vertical-align: top;\n",
       "    }\n",
       "\n",
       "    .dataframe thead th {\n",
       "        text-align: right;\n",
       "    }\n",
       "</style>\n",
       "<table border=\"1\" class=\"dataframe\">\n",
       "  <thead>\n",
       "    <tr style=\"text-align: right;\">\n",
       "      <th></th>\n",
       "      <th>Mean</th>\n",
       "      <th>Median</th>\n",
       "      <th>Range</th>\n",
       "      <th>First_Quantile</th>\n",
       "      <th>Third_Quantile</th>\n",
       "      <th>Interquartile</th>\n",
       "    </tr>\n",
       "  </thead>\n",
       "  <tbody>\n",
       "    <tr>\n",
       "      <th>AT</th>\n",
       "      <td>19.651231</td>\n",
       "      <td>20.345</td>\n",
       "      <td>35.30</td>\n",
       "      <td>13.5100</td>\n",
       "      <td>25.72</td>\n",
       "      <td>12.2100</td>\n",
       "    </tr>\n",
       "    <tr>\n",
       "      <th>V</th>\n",
       "      <td>54.305804</td>\n",
       "      <td>52.080</td>\n",
       "      <td>56.20</td>\n",
       "      <td>41.7400</td>\n",
       "      <td>66.54</td>\n",
       "      <td>24.8000</td>\n",
       "    </tr>\n",
       "    <tr>\n",
       "      <th>AP</th>\n",
       "      <td>1013.259078</td>\n",
       "      <td>1012.940</td>\n",
       "      <td>40.41</td>\n",
       "      <td>1009.1000</td>\n",
       "      <td>1017.26</td>\n",
       "      <td>8.1600</td>\n",
       "    </tr>\n",
       "    <tr>\n",
       "      <th>RH</th>\n",
       "      <td>73.308978</td>\n",
       "      <td>74.975</td>\n",
       "      <td>74.60</td>\n",
       "      <td>63.3275</td>\n",
       "      <td>84.83</td>\n",
       "      <td>21.5025</td>\n",
       "    </tr>\n",
       "    <tr>\n",
       "      <th>PE</th>\n",
       "      <td>454.365009</td>\n",
       "      <td>451.550</td>\n",
       "      <td>75.50</td>\n",
       "      <td>439.7500</td>\n",
       "      <td>468.43</td>\n",
       "      <td>28.6800</td>\n",
       "    </tr>\n",
       "  </tbody>\n",
       "</table>\n",
       "</div>"
      ],
      "text/plain": [
       "           Mean    Median  Range  First_Quantile  Third_Quantile  \\\n",
       "AT    19.651231    20.345  35.30         13.5100           25.72   \n",
       "V     54.305804    52.080  56.20         41.7400           66.54   \n",
       "AP  1013.259078  1012.940  40.41       1009.1000         1017.26   \n",
       "RH    73.308978    74.975  74.60         63.3275           84.83   \n",
       "PE   454.365009   451.550  75.50        439.7500          468.43   \n",
       "\n",
       "    Interquartile  \n",
       "AT        12.2100  \n",
       "V         24.8000  \n",
       "AP         8.1600  \n",
       "RH        21.5025  \n",
       "PE        28.6800  "
      ]
     },
     "execution_count": 6,
     "metadata": {},
     "output_type": "execute_result"
    }
   ],
   "source": [
    "#Summarize them in a table\n",
    "summarize = pd.DataFrame() \n",
    "summarize = summarize.assign(Mean = Mean, Median = Median, Range = Range, First_Quantile = Quantile_1, \n",
    "                             Third_Quantile = Quantile_3, Interquartile = Interquartile)\n",
    "summarize"
   ]
  },
  {
   "cell_type": "markdown",
   "metadata": {},
   "source": [
    "(c) For each predictor, fit a simple linear regression model to predict the response.\n",
    "Describe your results. In which of the models is there a statistically significant association between the predictor and the response? Create some plots to back up your assertions. Are there any outliers that you would like to remove from your data for each of these regression tasks?"
   ]
  },
  {
   "cell_type": "code",
   "execution_count": 7,
   "metadata": {},
   "outputs": [
    {
     "name": "stdout",
     "output_type": "stream",
     "text": [
      "                            OLS Regression Results                            \n",
      "==============================================================================\n",
      "Dep. Variable:                     PE   R-squared:                       0.899\n",
      "Model:                            OLS   Adj. R-squared:                  0.899\n",
      "Method:                 Least Squares   F-statistic:                 8.510e+04\n",
      "Date:                Mon, 23 May 2022   Prob (F-statistic):               0.00\n",
      "Time:                        13:48:47   Log-Likelihood:                -29756.\n",
      "No. Observations:                9568   AIC:                         5.952e+04\n",
      "Df Residuals:                    9566   BIC:                         5.953e+04\n",
      "Df Model:                           1                                         \n",
      "Covariance Type:            nonrobust                                         \n",
      "==============================================================================\n",
      "                 coef    std err          t      P>|t|      [0.025      0.975]\n",
      "------------------------------------------------------------------------------\n",
      "Intercept    497.0341      0.156   3177.280      0.000     496.727     497.341\n",
      "AT            -2.1713      0.007   -291.715      0.000      -2.186      -2.157\n",
      "==============================================================================\n",
      "Omnibus:                      417.457   Durbin-Watson:                   2.033\n",
      "Prob(Omnibus):                  0.000   Jarque-Bera (JB):             1117.844\n",
      "Skew:                          -0.209   Prob(JB):                    1.83e-243\n",
      "Kurtosis:                       4.621   Cond. No.                         59.4\n",
      "==============================================================================\n",
      "\n",
      "Notes:\n",
      "[1] Standard Errors assume that the covariance matrix of the errors is correctly specified.\n",
      "\n",
      "\n",
      "p-value of AT is smaller than 0.05. AT is significant variable\n"
     ]
    }
   ],
   "source": [
    "#simple linear regression: AT\n",
    "m_AT =  smf.ols(formula = 'PE ~ AT', data = ccpp).fit()\n",
    "print(m_AT.summary())\n",
    "print(\"\\n\")\n",
    "print('p-value of AT is smaller than 0.05. AT is significant variable')"
   ]
  },
  {
   "cell_type": "code",
   "execution_count": 8,
   "metadata": {},
   "outputs": [
    {
     "name": "stdout",
     "output_type": "stream",
     "text": [
      "Prediction of AT : \n",
      " 0       464.551173\n",
      "1       442.360283\n",
      "2       485.938675\n",
      "3       451.740386\n",
      "4       473.540438\n",
      "           ...    \n",
      "9563    460.881643\n",
      "9564    468.394410\n",
      "9565    429.028379\n",
      "9566    443.880207\n",
      "9567    450.133609\n",
      "Length: 9568, dtype: float64\n"
     ]
    }
   ],
   "source": [
    "prediction_AT = m_AT.predict(ccpp['AT'])\n",
    "\n",
    "print('Prediction of AT : \\n' ,prediction_AT)\n"
   ]
  },
  {
   "cell_type": "code",
   "execution_count": 9,
   "metadata": {},
   "outputs": [
    {
     "data": {
      "text/plain": [
       "<matplotlib.legend.Legend at 0x7ff4e9556c40>"
      ]
     },
     "execution_count": 9,
     "metadata": {},
     "output_type": "execute_result"
    },
    {
     "data": {
      "image/png": "[encoded data removed]",
      "text/plain": [
       "<Figure size 432x288 with 1 Axes>"
      ]
     },
     "metadata": {
      "needs_background": "light"
     },
     "output_type": "display_data"
    }
   ],
   "source": [
    "y = ccpp.iloc[:,4]\n",
    "x_AT = ccpp['AT']\n",
    "\n",
    "#create a scatter plot\n",
    "plt.scatter(x_AT,y)\n",
    "#create a linear regression line\n",
    "plt.plot(x_AT,prediction_AT,color=\"black\", label='Linear Regression')\n",
    "plt.xlabel('AT')\n",
    "plt.ylabel('PE (prediction)')\n",
    "plt.legend()"
   ]
  },
  {
   "cell_type": "code",
   "execution_count": 10,
   "metadata": {},
   "outputs": [
    {
     "name": "stdout",
     "output_type": "stream",
     "text": [
      "                            OLS Regression Results                            \n",
      "==============================================================================\n",
      "Dep. Variable:                     PE   R-squared:                       0.757\n",
      "Model:                            OLS   Adj. R-squared:                  0.756\n",
      "Method:                 Least Squares   F-statistic:                 2.972e+04\n",
      "Date:                Mon, 23 May 2022   Prob (F-statistic):               0.00\n",
      "Time:                        13:48:47   Log-Likelihood:                -33963.\n",
      "No. Observations:                9568   AIC:                         6.793e+04\n",
      "Df Residuals:                    9566   BIC:                         6.794e+04\n",
      "Df Model:                           1                                         \n",
      "Covariance Type:            nonrobust                                         \n",
      "==============================================================================\n",
      "                 coef    std err          t      P>|t|      [0.025      0.975]\n",
      "------------------------------------------------------------------------------\n",
      "Intercept    517.8015      0.378   1370.218      0.000     517.061     518.542\n",
      "V             -1.1681      0.007   -172.402      0.000      -1.181      -1.155\n",
      "==============================================================================\n",
      "Omnibus:                       77.693   Durbin-Watson:                   2.007\n",
      "Prob(Omnibus):                  0.000   Jarque-Bera (JB):              109.571\n",
      "Skew:                          -0.097   Prob(JB):                     1.61e-24\n",
      "Kurtosis:                       3.487   Cond. No.                         245.\n",
      "==============================================================================\n",
      "\n",
      "Notes:\n",
      "[1] Standard Errors assume that the covariance matrix of the errors is correctly specified.\n",
      "\n",
      "\n",
      "p-value of V is smaller than 0.05. V is significant variable\n"
     ]
    }
   ],
   "source": [
    "#simple linear regression: V\n",
    "m_V = smf.ols(formula = 'PE ~ V', data = ccpp).fit()\n",
    "print(m_V.summary())\n",
    "print(\"\\n\")\n",
    "print('p-value of V is smaller than 0.05. V is significant variable')"
   ]
  },
  {
   "cell_type": "code",
   "execution_count": 11,
   "metadata": {},
   "outputs": [
    {
     "name": "stdout",
     "output_type": "stream",
     "text": [
      "Prediction of V : \n",
      " 0       469.020203\n",
      "1       444.255739\n",
      "2       471.777002\n",
      "3       450.844021\n",
      "4       473.996459\n",
      "           ...    \n",
      "9563    459.756892\n",
      "9564    472.033992\n",
      "9565    430.974042\n",
      "9566    436.674542\n",
      "9567    444.769718\n",
      "Length: 9568, dtype: float64\n"
     ]
    }
   ],
   "source": [
    "prediction_V = m_V.predict(ccpp['V'])\n",
    "\n",
    "print('Prediction of V : \\n' ,prediction_V)\n"
   ]
  },
  {
   "cell_type": "code",
   "execution_count": 12,
   "metadata": {},
   "outputs": [
    {
     "data": {
      "text/plain": [
       "<matplotlib.legend.Legend at 0x7ff51cdef7f0>"
      ]
     },
     "execution_count": 12,
     "metadata": {},
     "output_type": "execute_result"
    },
    {
     "data": {
      "image/png": "[encoded data removed]",
      "text/plain": [
       "<Figure size 432x288 with 1 Axes>"
      ]
     },
     "metadata": {
      "needs_background": "light"
     },
     "output_type": "display_data"
    }
   ],
   "source": [
    "y = ccpp.iloc[:,4]\n",
    "x_V = ccpp['V']\n",
    "\n",
    "#create a scatter plot\n",
    "plt.scatter(x_V,y)\n",
    "#create a linear regression line\n",
    "plt.plot(x_V,prediction_V,color=\"black\", label='Linear Regression')\n",
    "plt.xlabel('V')\n",
    "plt.ylabel('PE (prediction)')\n",
    "plt.legend()"
   ]
  },
  {
   "cell_type": "code",
   "execution_count": 13,
   "metadata": {},
   "outputs": [
    {
     "name": "stdout",
     "output_type": "stream",
     "text": [
      "                            OLS Regression Results                            \n",
      "==============================================================================\n",
      "Dep. Variable:                     PE   R-squared:                       0.269\n",
      "Model:                            OLS   Adj. R-squared:                  0.269\n",
      "Method:                 Least Squares   F-statistic:                     3516.\n",
      "Date:                Mon, 23 May 2022   Prob (F-statistic):               0.00\n",
      "Time:                        13:48:47   Log-Likelihood:                -39224.\n",
      "No. Observations:                9568   AIC:                         7.845e+04\n",
      "Df Residuals:                    9566   BIC:                         7.847e+04\n",
      "Df Model:                           1                                         \n",
      "Covariance Type:            nonrobust                                         \n",
      "==============================================================================\n",
      "                 coef    std err          t      P>|t|      [0.025      0.975]\n",
      "------------------------------------------------------------------------------\n",
      "Intercept  -1055.2610     25.459    -41.449      0.000   -1105.167   -1005.355\n",
      "AP             1.4899      0.025     59.296      0.000       1.441       1.539\n",
      "==============================================================================\n",
      "Omnibus:                      525.438   Durbin-Watson:                   1.996\n",
      "Prob(Omnibus):                  0.000   Jarque-Bera (JB):              612.290\n",
      "Skew:                           0.616   Prob(JB):                    1.10e-133\n",
      "Kurtosis:                       2.859   Cond. No.                     1.73e+05\n",
      "==============================================================================\n",
      "\n",
      "Notes:\n",
      "[1] Standard Errors assume that the covariance matrix of the errors is correctly specified.\n",
      "[2] The condition number is large, 1.73e+05. This might indicate that there are\n",
      "strong multicollinearity or other numerical problems.\n",
      "\n",
      "\n",
      "p-value of AP is smaller than 0.05. AP is significant variable\n"
     ]
    }
   ],
   "source": [
    "#simple linear regression: AP\n",
    "m_AP = smf.ols(formula = 'PE ~ AP', data = ccpp).fit()\n",
    "print(m_AP.summary())\n",
    "print(\"\\n\")\n",
    "print('p-value of AP is smaller than 0.05. AP is significant variable')"
   ]
  },
  {
   "cell_type": "code",
   "execution_count": 14,
   "metadata": {},
   "outputs": [
    {
     "name": "stdout",
     "output_type": "stream",
     "text": [
      "Prediction of AP : \n",
      " 0       470.471896\n",
      "1       464.467713\n",
      "2       452.727524\n",
      "3       449.866970\n",
      "4       448.362200\n",
      "           ...    \n",
      "9563    455.483787\n",
      "9564    469.875947\n",
      "9565    453.859826\n",
      "9566    455.260306\n",
      "9567    460.281173\n",
      "Length: 9568, dtype: float64\n"
     ]
    }
   ],
   "source": [
    "prediction_AP = m_AP.predict(ccpp['AP'])\n",
    "\n",
    "print('Prediction of AP : \\n' ,prediction_AP)\n"
   ]
  },
  {
   "cell_type": "code",
   "execution_count": 15,
   "metadata": {},
   "outputs": [
    {
     "data": {
      "text/plain": [
       "<matplotlib.legend.Legend at 0x7ff4f885f4c0>"
      ]
     },
     "execution_count": 15,
     "metadata": {},
     "output_type": "execute_result"
    },
    {
     "data": {
      "image/png": "[encoded data removed]",
      "text/plain": [
       "<Figure size 432x288 with 1 Axes>"
      ]
     },
     "metadata": {
      "needs_background": "light"
     },
     "output_type": "display_data"
    }
   ],
   "source": [
    "y = ccpp.iloc[:,4]\n",
    "x_AP = ccpp['AP']\n",
    "\n",
    "#create a scatter plot\n",
    "plt.scatter(x_AP,y)\n",
    "#create a linear regression line\n",
    "plt.plot(x_AP,prediction_AP,color=\"black\", label='Linear Regression')\n",
    "plt.xlabel('AP')\n",
    "plt.ylabel('PE (prediction)')\n",
    "plt.legend()"
   ]
  },
  {
   "cell_type": "code",
   "execution_count": 16,
   "metadata": {},
   "outputs": [
    {
     "name": "stdout",
     "output_type": "stream",
     "text": [
      "                            OLS Regression Results                            \n",
      "==============================================================================\n",
      "Dep. Variable:                     PE   R-squared:                       0.152\n",
      "Model:                            OLS   Adj. R-squared:                  0.152\n",
      "Method:                 Least Squares   F-statistic:                     1714.\n",
      "Date:                Mon, 23 May 2022   Prob (F-statistic):               0.00\n",
      "Time:                        13:48:47   Log-Likelihood:                -39933.\n",
      "No. Observations:                9568   AIC:                         7.987e+04\n",
      "Df Residuals:                    9566   BIC:                         7.988e+04\n",
      "Df Model:                           1                                         \n",
      "Covariance Type:            nonrobust                                         \n",
      "==============================================================================\n",
      "                 coef    std err          t      P>|t|      [0.025      0.975]\n",
      "------------------------------------------------------------------------------\n",
      "Intercept    420.9618      0.823    511.676      0.000     419.349     422.574\n",
      "RH             0.4557      0.011     41.399      0.000       0.434       0.477\n",
      "==============================================================================\n",
      "Omnibus:                      772.278   Durbin-Watson:                   1.998\n",
      "Prob(Omnibus):                  0.000   Jarque-Bera (JB):              319.245\n",
      "Skew:                           0.231   Prob(JB):                     4.75e-70\n",
      "Kurtosis:                       2.234   Cond. No.                         383.\n",
      "==============================================================================\n",
      "\n",
      "Notes:\n",
      "[1] Standard Errors assume that the covariance matrix of the errors is correctly specified.\n",
      "\n",
      "\n",
      "p-value of RH is smaller than 0.05. RH is significant variable\n"
     ]
    }
   ],
   "source": [
    "#simple linear regression: RH\n",
    "m_RH = smf.ols(formula = 'PE ~ RH', data = ccpp).fit()\n",
    "print(m_RH.summary())\n",
    "print(\"\\n\")\n",
    "print('p-value of RH is smaller than 0.05. RH is significant variable')"
   ]
  },
  {
   "cell_type": "code",
   "execution_count": 17,
   "metadata": {},
   "outputs": [
    {
     "name": "stdout",
     "output_type": "stream",
     "text": [
      "Prediction of RH : \n",
      " 0       454.301684\n",
      "1       447.881574\n",
      "2       462.945367\n",
      "3       455.882790\n",
      "4       464.986679\n",
      "           ...    \n",
      "9563    462.425925\n",
      "9564    451.390080\n",
      "9565    437.583882\n",
      "9566    449.389776\n",
      "9567    451.886739\n",
      "Length: 9568, dtype: float64\n"
     ]
    }
   ],
   "source": [
    "prediction_RH = m_RH.predict(ccpp['RH'])\n",
    "\n",
    "print('Prediction of RH : \\n' ,prediction_RH)\n"
   ]
  },
  {
   "cell_type": "code",
   "execution_count": 18,
   "metadata": {},
   "outputs": [
    {
     "data": {
      "text/plain": [
       "<matplotlib.legend.Legend at 0x7ff4f8513610>"
      ]
     },
     "execution_count": 18,
     "metadata": {},
     "output_type": "execute_result"
    },
    {
     "data": {
      "image/png": "[encoded data removed]",
      "text/plain": [
       "<Figure size 432x288 with 1 Axes>"
      ]
     },
     "metadata": {
      "needs_background": "light"
     },
     "output_type": "display_data"
    }
   ],
   "source": [
    "y = ccpp.iloc[:,4]\n",
    "x_RH = ccpp['RH']\n",
    "\n",
    "#create a scatter plot\n",
    "plt.scatter(x_RH,y)\n",
    "#create a linear regression line\n",
    "plt.plot(x_RH,prediction_RH,color=\"black\", label='Linear Regression')\n",
    "plt.xlabel('RH')\n",
    "plt.ylabel('PE (prediction)')\n",
    "plt.legend()"
   ]
  },
  {
   "cell_type": "code",
   "execution_count": 19,
   "metadata": {},
   "outputs": [
    {
     "name": "stdout",
     "output_type": "stream",
     "text": [
      "outliers ofAT: [3117 3383 3895 4218 7375 7398 7664 8187 8362]\n",
      "outliers ofV: [3103]\n",
      "outliers ofAP: []\n",
      "outliers ofRH: []\n",
      "AT and V have outliers can be removed.\n"
     ]
    }
   ],
   "source": [
    "#outlier test\n",
    "y = ccpp.iloc[:,4]\n",
    "variables = ['AT','V','AP','RH']\n",
    "for i in range(len(variables)):\n",
    "    outlier=[]\n",
    "    x = ccpp.iloc[:,i]\n",
    "    x = sm.add_constant(x.values)\n",
    "    m3 = sm.OLS(y,x).fit()\n",
    "    outliers = m3.outlier_test()\n",
    "    outliers = outliers[outliers['bonf(p)'] < 0.05].index.values\n",
    "    print('outliers of'  +variables[i]+':', outliers)\n",
    "print('AT and V have outliers can be removed.')    "
   ]
  },
  {
   "cell_type": "markdown",
   "metadata": {},
   "source": [
    "(d) Fit a multiple regression model to predict the response using all of the predictors. Describe your results. For which predictors can we reject the null hypothesis H0 :βj =0?\n",
    "\n",
    "According to the results below, p-value of all predictors are smaller than 0.05, so we can reject the null hypothesis H0:βj =0.\n"
   ]
  },
  {
   "cell_type": "code",
   "execution_count": 20,
   "metadata": {},
   "outputs": [
    {
     "name": "stdout",
     "output_type": "stream",
     "text": [
      "Prediction of multiple regression: \n",
      " [467.26978996 444.0773659  483.56264263 ... 432.40579787 443.03667582\n",
      " 449.69603741]\n"
     ]
    },
    {
     "data": {
      "text/html": [
       "<table class=\"simpletable\">\n",
       "<caption>OLS Regression Results</caption>\n",
       "<tr>\n",
       "  <th>Dep. Variable:</th>           <td>PE</td>        <th>  R-squared:         </th> <td>   0.929</td> \n",
       "</tr>\n",
       "<tr>\n",
       "  <th>Model:</th>                   <td>OLS</td>       <th>  Adj. R-squared:    </th> <td>   0.929</td> \n",
       "</tr>\n",
       "<tr>\n",
       "  <th>Method:</th>             <td>Least Squares</td>  <th>  F-statistic:       </th> <td>3.114e+04</td>\n",
       "</tr>\n",
       "<tr>\n",
       "  <th>Date:</th>             <td>Mon, 23 May 2022</td> <th>  Prob (F-statistic):</th>  <td>  0.00</td>  \n",
       "</tr>\n",
       "<tr>\n",
       "  <th>Time:</th>                 <td>13:49:34</td>     <th>  Log-Likelihood:    </th> <td> -28088.</td> \n",
       "</tr>\n",
       "<tr>\n",
       "  <th>No. Observations:</th>      <td>  9568</td>      <th>  AIC:               </th> <td>5.619e+04</td>\n",
       "</tr>\n",
       "<tr>\n",
       "  <th>Df Residuals:</th>          <td>  9563</td>      <th>  BIC:               </th> <td>5.622e+04</td>\n",
       "</tr>\n",
       "<tr>\n",
       "  <th>Df Model:</th>              <td>     4</td>      <th>                     </th>     <td> </td>    \n",
       "</tr>\n",
       "<tr>\n",
       "  <th>Covariance Type:</th>      <td>nonrobust</td>    <th>                     </th>     <td> </td>    \n",
       "</tr>\n",
       "</table>\n",
       "<table class=\"simpletable\">\n",
       "<tr>\n",
       "    <td></td>       <th>coef</th>     <th>std err</th>      <th>t</th>      <th>P>|t|</th>  <th>[0.025</th>    <th>0.975]</th>  \n",
       "</tr>\n",
       "<tr>\n",
       "  <th>const</th> <td>  454.6093</td> <td>    9.749</td> <td>   46.634</td> <td> 0.000</td> <td>  435.500</td> <td>  473.718</td>\n",
       "</tr>\n",
       "<tr>\n",
       "  <th>x1</th>    <td>   -1.9775</td> <td>    0.015</td> <td> -129.342</td> <td> 0.000</td> <td>   -2.007</td> <td>   -1.948</td>\n",
       "</tr>\n",
       "<tr>\n",
       "  <th>x2</th>    <td>   -0.2339</td> <td>    0.007</td> <td>  -32.122</td> <td> 0.000</td> <td>   -0.248</td> <td>   -0.220</td>\n",
       "</tr>\n",
       "<tr>\n",
       "  <th>x3</th>    <td>    0.0621</td> <td>    0.009</td> <td>    6.564</td> <td> 0.000</td> <td>    0.044</td> <td>    0.081</td>\n",
       "</tr>\n",
       "<tr>\n",
       "  <th>x4</th>    <td>   -0.1581</td> <td>    0.004</td> <td>  -37.918</td> <td> 0.000</td> <td>   -0.166</td> <td>   -0.150</td>\n",
       "</tr>\n",
       "</table>\n",
       "<table class=\"simpletable\">\n",
       "<tr>\n",
       "  <th>Omnibus:</th>       <td>892.002</td> <th>  Durbin-Watson:     </th> <td>   2.033</td>\n",
       "</tr>\n",
       "<tr>\n",
       "  <th>Prob(Omnibus):</th> <td> 0.000</td>  <th>  Jarque-Bera (JB):  </th> <td>4086.777</td>\n",
       "</tr>\n",
       "<tr>\n",
       "  <th>Skew:</th>          <td>-0.352</td>  <th>  Prob(JB):          </th> <td>    0.00</td>\n",
       "</tr>\n",
       "<tr>\n",
       "  <th>Kurtosis:</th>      <td> 6.123</td>  <th>  Cond. No.          </th> <td>2.13e+05</td>\n",
       "</tr>\n",
       "</table><br/><br/>Notes:<br/>[1] Standard Errors assume that the covariance matrix of the errors is correctly specified.<br/>[2] The condition number is large, 2.13e+05. This might indicate that there are<br/>strong multicollinearity or other numerical problems."
      ],
      "text/plain": [
       "<class 'statsmodels.iolib.summary.Summary'>\n",
       "\"\"\"\n",
       "                            OLS Regression Results                            \n",
       "==============================================================================\n",
       "Dep. Variable:                     PE   R-squared:                       0.929\n",
       "Model:                            OLS   Adj. R-squared:                  0.929\n",
       "Method:                 Least Squares   F-statistic:                 3.114e+04\n",
       "Date:                Mon, 23 May 2022   Prob (F-statistic):               0.00\n",
       "Time:                        13:49:34   Log-Likelihood:                -28088.\n",
       "No. Observations:                9568   AIC:                         5.619e+04\n",
       "Df Residuals:                    9563   BIC:                         5.622e+04\n",
       "Df Model:                           4                                         \n",
       "Covariance Type:            nonrobust                                         \n",
       "==============================================================================\n",
       "                 coef    std err          t      P>|t|      [0.025      0.975]\n",
       "------------------------------------------------------------------------------\n",
       "const        454.6093      9.749     46.634      0.000     435.500     473.718\n",
       "x1            -1.9775      0.015   -129.342      0.000      -2.007      -1.948\n",
       "x2            -0.2339      0.007    -32.122      0.000      -0.248      -0.220\n",
       "x3             0.0621      0.009      6.564      0.000       0.044       0.081\n",
       "x4            -0.1581      0.004    -37.918      0.000      -0.166      -0.150\n",
       "==============================================================================\n",
       "Omnibus:                      892.002   Durbin-Watson:                   2.033\n",
       "Prob(Omnibus):                  0.000   Jarque-Bera (JB):             4086.777\n",
       "Skew:                          -0.352   Prob(JB):                         0.00\n",
       "Kurtosis:                       6.123   Cond. No.                     2.13e+05\n",
       "==============================================================================\n",
       "\n",
       "Notes:\n",
       "[1] Standard Errors assume that the covariance matrix of the errors is correctly specified.\n",
       "[2] The condition number is large, 2.13e+05. This might indicate that there are\n",
       "strong multicollinearity or other numerical problems.\n",
       "\"\"\""
      ]
     },
     "execution_count": 20,
     "metadata": {},
     "output_type": "execute_result"
    }
   ],
   "source": [
    "df1 = ccpp\n",
    "#variables\n",
    "x_mul= df1.drop(columns='PE',axis=1)\n",
    "x_mul= sm.add_constant(x_mul.values)\n",
    "#response\n",
    "y_mul= df1['PE']\n",
    "\n",
    "\n",
    "#OLS\n",
    "mols_mul = sm.OLS(y_mul,x_mul).fit()\n",
    "prediction_mul = mols_mul.predict(x_mul)\n",
    "print('Prediction of multiple regression: \\n', prediction_mul)\n",
    "#summarize \n",
    "mols_mul.summary()\n"
   ]
  },
  {
   "cell_type": "code",
   "execution_count": 21,
   "metadata": {
    "scrolled": true
   },
   "outputs": [
    {
     "data": {
      "text/plain": [
       "const     0.000000e+00\n",
       "x1        0.000000e+00\n",
       "x2       4.375305e-215\n",
       "x3        5.507109e-11\n",
       "x4       3.104584e-293\n",
       "Name: P>|t|, dtype: float64"
      ]
     },
     "execution_count": 21,
     "metadata": {},
     "output_type": "execute_result"
    }
   ],
   "source": [
    "p_value = mols_mul.summary2().tables[1]['P>|t|']\n",
    "p_value"
   ]
  },
  {
   "cell_type": "markdown",
   "metadata": {},
   "source": [
    "Ans: According to the results above, p-value of all predictors are smaller than 0.05, so we can reject the null hypothesis H0:βj =0."
   ]
  },
  {
   "cell_type": "markdown",
   "metadata": {},
   "source": [
    "(e) How do your results from 1c compare to your results from 1d? Create a plot displaying the univariate regression coefficients from 1c on the x-axis, and the multiple regression coefficients from 1d on the y-axis. That is, each predictor is displayed as a single point in the plot. Its coefficient in a simple linear regression model is shown on the x-axis, and its coefficient estimate in the multiple linear regression model is shown on the y-axis.\n"
   ]
  },
  {
   "cell_type": "code",
   "execution_count": 22,
   "metadata": {},
   "outputs": [
    {
     "name": "stdout",
     "output_type": "stream",
     "text": [
      "-2.1713199585178047\n"
     ]
    },
    {
     "data": {
      "text/plain": [
       "x1   -1.977513\n",
       "x2   -0.233916\n",
       "x3    0.062083\n",
       "x4   -0.158054\n",
       "dtype: float64"
      ]
     },
     "execution_count": 22,
     "metadata": {},
     "output_type": "execute_result"
    }
   ],
   "source": [
    "print(m_AT.params[1])\n",
    "m_d = mols_mul.params[1:]\n",
    "m_d"
   ]
  },
  {
   "cell_type": "code",
   "execution_count": 23,
   "metadata": {},
   "outputs": [
    {
     "data": {
      "text/plain": [
       "Text(0, 0.5, 'Coefficients of Multiple Regression')"
      ]
     },
     "execution_count": 23,
     "metadata": {},
     "output_type": "execute_result"
    },
    {
     "data": {
      "image/png": "[encoded data removed]",
      "text/plain": [
       "<Figure size 432x288 with 1 Axes>"
      ]
     },
     "metadata": {
      "needs_background": "light"
     },
     "output_type": "display_data"
    }
   ],
   "source": [
    "AT_coef = m_AT.params[1]\n",
    "V_coef = m_V.params[1]\n",
    "AP_coef = m_AP.params[1]\n",
    "RH_coef = m_RH.params[1]\n",
    "\n",
    "\n",
    "uni_coef = [AT_coef, V_coef, AP_coef, RH_coef] \n",
    "mul_coef = m_d\n",
    "columns = ['AT', 'V', 'AP', 'RH'] \n",
    "\n",
    "for i,variable in enumerate(columns):\n",
    "     plt.scatter(uni_coef[i],mul_coef[i],label=variable)\n",
    "        \n",
    "plt.legend(loc=\"upper left\")\n",
    "plt.xlabel(\"Coefficients of Univariate Regression\")\n",
    "plt.ylabel(\"Coefficients of Multiple Regression\")\n",
    "#plt.grid()\n"
   ]
  },
  {
   "cell_type": "code",
   "execution_count": 24,
   "metadata": {},
   "outputs": [
    {
     "data": {
      "text/html": [
       "<div>\n",
       "<style scoped>\n",
       "    .dataframe tbody tr th:only-of-type {\n",
       "        vertical-align: middle;\n",
       "    }\n",
       "\n",
       "    .dataframe tbody tr th {\n",
       "        vertical-align: top;\n",
       "    }\n",
       "\n",
       "    .dataframe thead th {\n",
       "        text-align: right;\n",
       "    }\n",
       "</style>\n",
       "<table border=\"1\" class=\"dataframe\">\n",
       "  <thead>\n",
       "    <tr style=\"text-align: right;\">\n",
       "      <th></th>\n",
       "      <th>Variables</th>\n",
       "      <th>Univariate</th>\n",
       "      <th>Multiple</th>\n",
       "    </tr>\n",
       "  </thead>\n",
       "  <tbody>\n",
       "    <tr>\n",
       "      <th>0</th>\n",
       "      <td>AT</td>\n",
       "      <td>-2.171320</td>\n",
       "      <td>-1.977513</td>\n",
       "    </tr>\n",
       "    <tr>\n",
       "      <th>1</th>\n",
       "      <td>V</td>\n",
       "      <td>-1.168135</td>\n",
       "      <td>-0.233916</td>\n",
       "    </tr>\n",
       "    <tr>\n",
       "      <th>2</th>\n",
       "      <td>AP</td>\n",
       "      <td>1.489872</td>\n",
       "      <td>0.062083</td>\n",
       "    </tr>\n",
       "    <tr>\n",
       "      <th>3</th>\n",
       "      <td>RH</td>\n",
       "      <td>0.455650</td>\n",
       "      <td>-0.158054</td>\n",
       "    </tr>\n",
       "  </tbody>\n",
       "</table>\n",
       "</div>"
      ],
      "text/plain": [
       "  Variables  Univariate  Multiple\n",
       "0        AT   -2.171320 -1.977513\n",
       "1         V   -1.168135 -0.233916\n",
       "2        AP    1.489872  0.062083\n",
       "3        RH    0.455650 -0.158054"
      ]
     },
     "execution_count": 24,
     "metadata": {},
     "output_type": "execute_result"
    }
   ],
   "source": [
    "#table of prediction(Univariate and Multiple)\n",
    "columns = ['AT', 'V', 'AP', 'RH']\n",
    "table_regres = pd.DataFrame()\n",
    "table_regres = table_regres.assign(Variables=columns, Univariate = uni_coef, Multiple = list(mul_coef))\n",
    "table_regres "
   ]
  },
  {
   "cell_type": "markdown",
   "metadata": {},
   "source": [
    "(f) Is there evidence of nonlinear association between any of the predictors and the response? To answer this question, for each predictor X, fit a model of the form\n",
    "Y =β0 +β1X+β2X2 +β3X3 +ε\n",
    "\n",
    "Ans: Yes, there is evidence of nonlinear association between any of the predictors and the response. See the data below."
   ]
  },
  {
   "cell_type": "code",
   "execution_count": 25,
   "metadata": {},
   "outputs": [],
   "source": [
    "from sklearn.preprocessing import PolynomialFeatures"
   ]
  },
  {
   "cell_type": "code",
   "execution_count": 26,
   "metadata": {},
   "outputs": [
    {
     "data": {
      "text/plain": [
       "array([464.54684395, 440.72181915, 486.69856923, ..., 433.03855824,\n",
       "       442.03572569, 448.11655276])"
      ]
     },
     "execution_count": 26,
     "metadata": {},
     "output_type": "execute_result"
    }
   ],
   "source": [
    "#Polynomial Features : AT\n",
    "xpoly_AT = np.array(ccpp.iloc[:,0])\n",
    "y = ccpp.iloc[:,4]\n",
    "\n",
    "#Fit polynomial\n",
    "mpoly_AT = PolynomialFeatures(degree = 3).fit_transform(xpoly_AT.reshape(-1, 1))\n",
    "#Creating the polynomial regression model\n",
    "mf_AT = LinearRegression().fit(mpoly_AT, y)\n",
    "ypoly_AT = mf_AT.predict(mpoly_AT)\n",
    "\n",
    "ypoly_AT\n"
   ]
  },
  {
   "cell_type": "code",
   "execution_count": 27,
   "metadata": {},
   "outputs": [
    {
     "data": {
      "text/html": [
       "<table class=\"simpletable\">\n",
       "<caption>OLS Regression Results</caption>\n",
       "<tr>\n",
       "  <th>Dep. Variable:</th>           <td>PE</td>        <th>  R-squared:         </th> <td>   0.899</td> \n",
       "</tr>\n",
       "<tr>\n",
       "  <th>Model:</th>                   <td>OLS</td>       <th>  Adj. R-squared:    </th> <td>   0.899</td> \n",
       "</tr>\n",
       "<tr>\n",
       "  <th>Method:</th>             <td>Least Squares</td>  <th>  F-statistic:       </th> <td>8.510e+04</td>\n",
       "</tr>\n",
       "<tr>\n",
       "  <th>Date:</th>             <td>Mon, 23 May 2022</td> <th>  Prob (F-statistic):</th>  <td>  0.00</td>  \n",
       "</tr>\n",
       "<tr>\n",
       "  <th>Time:</th>                 <td>13:49:34</td>     <th>  Log-Likelihood:    </th> <td> -29756.</td> \n",
       "</tr>\n",
       "<tr>\n",
       "  <th>No. Observations:</th>      <td>  9568</td>      <th>  AIC:               </th> <td>5.952e+04</td>\n",
       "</tr>\n",
       "<tr>\n",
       "  <th>Df Residuals:</th>          <td>  9566</td>      <th>  BIC:               </th> <td>5.953e+04</td>\n",
       "</tr>\n",
       "<tr>\n",
       "  <th>Df Model:</th>              <td>     1</td>      <th>                     </th>     <td> </td>    \n",
       "</tr>\n",
       "<tr>\n",
       "  <th>Covariance Type:</th>      <td>nonrobust</td>    <th>                     </th>     <td> </td>    \n",
       "</tr>\n",
       "</table>\n",
       "<table class=\"simpletable\">\n",
       "<tr>\n",
       "      <td></td>         <th>coef</th>     <th>std err</th>      <th>t</th>      <th>P>|t|</th>  <th>[0.025</th>    <th>0.975]</th>  \n",
       "</tr>\n",
       "<tr>\n",
       "  <th>Intercept</th> <td>  497.0341</td> <td>    0.156</td> <td> 3177.280</td> <td> 0.000</td> <td>  496.727</td> <td>  497.341</td>\n",
       "</tr>\n",
       "<tr>\n",
       "  <th>AT</th>        <td>   -2.1713</td> <td>    0.007</td> <td> -291.715</td> <td> 0.000</td> <td>   -2.186</td> <td>   -2.157</td>\n",
       "</tr>\n",
       "</table>\n",
       "<table class=\"simpletable\">\n",
       "<tr>\n",
       "  <th>Omnibus:</th>       <td>417.457</td> <th>  Durbin-Watson:     </th> <td>   2.033</td> \n",
       "</tr>\n",
       "<tr>\n",
       "  <th>Prob(Omnibus):</th> <td> 0.000</td>  <th>  Jarque-Bera (JB):  </th> <td>1117.844</td> \n",
       "</tr>\n",
       "<tr>\n",
       "  <th>Skew:</th>          <td>-0.209</td>  <th>  Prob(JB):          </th> <td>1.83e-243</td>\n",
       "</tr>\n",
       "<tr>\n",
       "  <th>Kurtosis:</th>      <td> 4.621</td>  <th>  Cond. No.          </th> <td>    59.4</td> \n",
       "</tr>\n",
       "</table><br/><br/>Notes:<br/>[1] Standard Errors assume that the covariance matrix of the errors is correctly specified."
      ],
      "text/plain": [
       "<class 'statsmodels.iolib.summary.Summary'>\n",
       "\"\"\"\n",
       "                            OLS Regression Results                            \n",
       "==============================================================================\n",
       "Dep. Variable:                     PE   R-squared:                       0.899\n",
       "Model:                            OLS   Adj. R-squared:                  0.899\n",
       "Method:                 Least Squares   F-statistic:                 8.510e+04\n",
       "Date:                Mon, 23 May 2022   Prob (F-statistic):               0.00\n",
       "Time:                        13:49:34   Log-Likelihood:                -29756.\n",
       "No. Observations:                9568   AIC:                         5.952e+04\n",
       "Df Residuals:                    9566   BIC:                         5.953e+04\n",
       "Df Model:                           1                                         \n",
       "Covariance Type:            nonrobust                                         \n",
       "==============================================================================\n",
       "                 coef    std err          t      P>|t|      [0.025      0.975]\n",
       "------------------------------------------------------------------------------\n",
       "Intercept    497.0341      0.156   3177.280      0.000     496.727     497.341\n",
       "AT            -2.1713      0.007   -291.715      0.000      -2.186      -2.157\n",
       "==============================================================================\n",
       "Omnibus:                      417.457   Durbin-Watson:                   2.033\n",
       "Prob(Omnibus):                  0.000   Jarque-Bera (JB):             1117.844\n",
       "Skew:                          -0.209   Prob(JB):                    1.83e-243\n",
       "Kurtosis:                       4.621   Cond. No.                         59.4\n",
       "==============================================================================\n",
       "\n",
       "Notes:\n",
       "[1] Standard Errors assume that the covariance matrix of the errors is correctly specified.\n",
       "\"\"\""
      ]
     },
     "execution_count": 27,
     "metadata": {},
     "output_type": "execute_result"
    }
   ],
   "source": [
    "ols2_AT = smf.ols('PE ~ AT', data = ccpp).fit()\n",
    "ols2_AT.summary()"
   ]
  },
  {
   "cell_type": "code",
   "execution_count": 28,
   "metadata": {},
   "outputs": [
    {
     "name": "stdout",
     "output_type": "stream",
     "text": [
      "                            OLS Regression Results                            \n",
      "==============================================================================\n",
      "Dep. Variable:                     PE   R-squared:                       0.912\n",
      "Model:                            OLS   Adj. R-squared:                  0.912\n",
      "Method:                 Least Squares   F-statistic:                 3.299e+04\n",
      "Date:                Mon, 23 May 2022   Prob (F-statistic):               0.00\n",
      "Time:                        13:49:34   Log-Likelihood:                -29101.\n",
      "No. Observations:                9568   AIC:                         5.821e+04\n",
      "Df Residuals:                    9564   BIC:                         5.824e+04\n",
      "Df Model:                           3                                         \n",
      "Covariance Type:            nonrobust                                         \n",
      "==============================================================================\n",
      "                 coef    std err          t      P>|t|      [0.025      0.975]\n",
      "------------------------------------------------------------------------------\n",
      "const        492.7281      0.673    732.248      0.000     491.409     494.047\n",
      "x1            -0.6103      0.124     -4.941      0.000      -0.852      -0.368\n",
      "x2            -0.1251      0.007    -18.199      0.000      -0.139      -0.112\n",
      "x3             0.0027      0.000     22.594      0.000       0.002       0.003\n",
      "==============================================================================\n",
      "Omnibus:                      648.041   Durbin-Watson:                   2.033\n",
      "Prob(Omnibus):                  0.000   Jarque-Bera (JB):             2767.059\n",
      "Skew:                          -0.191   Prob(JB):                         0.00\n",
      "Kurtosis:                       5.607   Cond. No.                     1.90e+05\n",
      "==============================================================================\n",
      "\n",
      "Notes:\n",
      "[1] Standard Errors assume that the covariance matrix of the errors is correctly specified.\n",
      "[2] The condition number is large, 1.9e+05. This might indicate that there are\n",
      "strong multicollinearity or other numerical problems.\n",
      "\n",
      "\n",
      "P-value of \"AT\",\"AT^2\",\"AT^3\"are smaller than 0.05, so they are all significant. Thus, there is a non-linear association.\n"
     ]
    }
   ],
   "source": [
    "#Ordinary Least Squares Regression\n",
    "ols_AT = sm.OLS(y, mpoly_AT).fit()\n",
    "print(ols_AT.summary())\n",
    "print(\"\\n\")\n",
    "print('P-value of \"AT\",\"AT^2\",\"AT^3\"are smaller than 0.05, so they are all significant. Thus, there is a non-linear association.')"
   ]
  },
  {
   "cell_type": "code",
   "execution_count": 29,
   "metadata": {},
   "outputs": [
    {
     "data": {
      "text/plain": [
       "array([469.65228348, 441.9171009 , 473.66562173, ..., 434.94640782,\n",
       "       437.14439759, 442.31226296])"
      ]
     },
     "execution_count": 29,
     "metadata": {},
     "output_type": "execute_result"
    }
   ],
   "source": [
    "#Polynomial Features : V\n",
    "xpoly_V = np.array(ccpp.iloc[:,1])\n",
    "y = ccpp.iloc[:,4]\n",
    "\n",
    "#Fit polynomial\n",
    "mpoly_V = PolynomialFeatures(degree = 3).fit_transform(xpoly_V.reshape(-1, 1))\n",
    "#Creating the polynomial regression model\n",
    "mf_V = LinearRegression().fit(mpoly_V, y)\n",
    "ypoly_V = mf_V.predict(mpoly_V)\n",
    "\n",
    "ypoly_V\n"
   ]
  },
  {
   "cell_type": "code",
   "execution_count": 30,
   "metadata": {},
   "outputs": [
    {
     "name": "stdout",
     "output_type": "stream",
     "text": [
      "                            OLS Regression Results                            \n",
      "==============================================================================\n",
      "Dep. Variable:                     PE   R-squared:                       0.775\n",
      "Model:                            OLS   Adj. R-squared:                  0.775\n",
      "Method:                 Least Squares   F-statistic:                 1.098e+04\n",
      "Date:                Mon, 23 May 2022   Prob (F-statistic):               0.00\n",
      "Time:                        13:49:34   Log-Likelihood:                -33585.\n",
      "No. Observations:                9568   AIC:                         6.718e+04\n",
      "Df Residuals:                    9564   BIC:                         6.721e+04\n",
      "Df Model:                           3                                         \n",
      "Covariance Type:            nonrobust                                         \n",
      "==============================================================================\n",
      "                 coef    std err          t      P>|t|      [0.025      0.975]\n",
      "------------------------------------------------------------------------------\n",
      "const        554.1468      9.151     60.557      0.000     536.209     572.084\n",
      "x1            -2.1444      0.509     -4.214      0.000      -3.142      -1.147\n",
      "x2            -0.0027      0.009     -0.294      0.768      -0.021       0.015\n",
      "x3             0.0001   5.45e-05      2.465      0.014    2.75e-05       0.000\n",
      "==============================================================================\n",
      "Omnibus:                      160.101   Durbin-Watson:                   2.009\n",
      "Prob(Omnibus):                  0.000   Jarque-Bera (JB):              279.778\n",
      "Skew:                          -0.125   Prob(JB):                     1.77e-61\n",
      "Kurtosis:                       3.800   Cond. No.                     2.47e+07\n",
      "==============================================================================\n",
      "\n",
      "Notes:\n",
      "[1] Standard Errors assume that the covariance matrix of the errors is correctly specified.\n",
      "[2] The condition number is large, 2.47e+07. This might indicate that there are\n",
      "strong multicollinearity or other numerical problems.\n",
      "\n",
      "\n",
      "P-value of \"V\",\"V^3\"are smaller than 0.05, so they are significant predictors.\n",
      "P-value of \"V^2\" is larger than 0.05. It is insignificant predicctor, we can remove it.\n",
      "Even we remove the predictor\"V^2\", we still have\"V\" and \"V^3\", thus there is a  non-linear association.\n"
     ]
    }
   ],
   "source": [
    "#Ordinary Least Squares Regression\n",
    "ols_V = sm.OLS(y, mpoly_V).fit()\n",
    "print(ols_V.summary())\n",
    "print(\"\\n\")\n",
    "print('P-value of \"V\",\"V^3\"are smaller than 0.05, so they are significant predictors.')\n",
    "print('P-value of \"V^2\" is larger than 0.05. It is insignificant predicctor, we can remove it.')\n",
    "print('Even we remove the predictor\"V^2\", we still have\"V\" and \"V^3\", thus there is a  non-linear association.')"
   ]
  },
  {
   "cell_type": "code",
   "execution_count": 31,
   "metadata": {},
   "outputs": [
    {
     "data": {
      "text/plain": [
       "array([473.18599777, 466.88245516, 450.98309512, ..., 452.42145248,\n",
       "       454.27784375, 461.26889573])"
      ]
     },
     "execution_count": 31,
     "metadata": {},
     "output_type": "execute_result"
    }
   ],
   "source": [
    "#Polynomial Features : AP\n",
    "xpoly_AP = np.array(ccpp.iloc[:,2])\n",
    "y = ccpp.iloc[:,4]\n",
    "#Fit polynomial\n",
    "mpoly_AP = PolynomialFeatures(degree = 3).fit_transform(xpoly_AP.reshape(-1, 1))\n",
    "#Creating the polynomial regression model\n",
    "mf_AP=LinearRegression().fit(mpoly_AP, y)\n",
    "ypoly_AP = mf_AP.predict(mpoly_AP)\n",
    "\n",
    "ypoly_AP\n",
    "\n"
   ]
  },
  {
   "cell_type": "code",
   "execution_count": 32,
   "metadata": {},
   "outputs": [
    {
     "name": "stdout",
     "output_type": "stream",
     "text": [
      "                            OLS Regression Results                            \n",
      "==============================================================================\n",
      "Dep. Variable:                     PE   R-squared:                       0.275\n",
      "Model:                            OLS   Adj. R-squared:                  0.275\n",
      "Method:                 Least Squares   F-statistic:                     1813.\n",
      "Date:                Mon, 23 May 2022   Prob (F-statistic):               0.00\n",
      "Time:                        13:49:34   Log-Likelihood:                -39184.\n",
      "No. Observations:                9568   AIC:                         7.837e+04\n",
      "Df Residuals:                    9565   BIC:                         7.840e+04\n",
      "Df Model:                           2                                         \n",
      "Covariance Type:            nonrobust                                         \n",
      "==============================================================================\n",
      "                 coef    std err          t      P>|t|      [0.025      0.975]\n",
      "------------------------------------------------------------------------------\n",
      "const          0.0747      0.009      8.415      0.000       0.057       0.092\n",
      "x1            25.2556      3.001      8.415      0.000      19.372      31.139\n",
      "x2            -0.0500      0.006     -8.439      0.000      -0.062      -0.038\n",
      "x3          2.514e-05   2.92e-06      8.613      0.000    1.94e-05    3.09e-05\n",
      "==============================================================================\n",
      "Omnibus:                      556.766   Durbin-Watson:                   1.997\n",
      "Prob(Omnibus):                  0.000   Jarque-Bera (JB):              640.319\n",
      "Skew:                           0.621   Prob(JB):                    9.05e-140\n",
      "Kurtosis:                       2.751   Cond. No.                     2.12e+15\n",
      "==============================================================================\n",
      "\n",
      "Notes:\n",
      "[1] Standard Errors assume that the covariance matrix of the errors is correctly specified.\n",
      "[2] The condition number is large, 2.12e+15. This might indicate that there are\n",
      "strong multicollinearity or other numerical problems.\n",
      "\n",
      "\n",
      "P-value of \"AP\",\"AP^2\",\"AP^3\"are smaller than 0.05, so they are all significant. Thus, there is a non-linear association.\n"
     ]
    }
   ],
   "source": [
    "#Ordinary Least Squares Regression\n",
    "ols_AP = sm.OLS(y, mpoly_AP).fit()\n",
    "print(ols_AP.summary())\n",
    "print(\"\\n\")\n",
    "print('P-value of \"AP\",\"AP^2\",\"AP^3\"are smaller than 0.05, so they are all significant. Thus, there is a non-linear association.')"
   ]
  },
  {
   "cell_type": "code",
   "execution_count": 33,
   "metadata": {},
   "outputs": [
    {
     "data": {
      "text/plain": [
       "array([454.36925312, 447.06920305, 462.94065403, ..., 440.72208905,\n",
       "       448.6940829 , 451.54461504])"
      ]
     },
     "execution_count": 33,
     "metadata": {},
     "output_type": "execute_result"
    }
   ],
   "source": [
    "#Polynomial Features : RH\n",
    "xpoly_RH = np.array(ccpp.iloc[:,3])\n",
    "y = ccpp.iloc[:,4]\n",
    "#Fit Polynomial model\n",
    "mpoly_RH = PolynomialFeatures(degree = 3).fit_transform(xpoly_RH.reshape(-1, 1))\n",
    "#Creating the polynomial regression model\n",
    "mf_RH = LinearRegression().fit(mpoly_RH, y)\n",
    "ypoly_RH = mf_RH.predict(mpoly_RH)\n",
    "ypoly_RH\n"
   ]
  },
  {
   "cell_type": "code",
   "execution_count": 34,
   "metadata": {},
   "outputs": [
    {
     "name": "stdout",
     "output_type": "stream",
     "text": [
      "                            OLS Regression Results                            \n",
      "==============================================================================\n",
      "Dep. Variable:                     PE   R-squared:                       0.154\n",
      "Model:                            OLS   Adj. R-squared:                  0.153\n",
      "Method:                 Least Squares   F-statistic:                     579.2\n",
      "Date:                Mon, 23 May 2022   Prob (F-statistic):               0.00\n",
      "Time:                        13:49:34   Log-Likelihood:                -39923.\n",
      "No. Observations:                9568   AIC:                         7.985e+04\n",
      "Df Residuals:                    9564   BIC:                         7.988e+04\n",
      "Df Model:                           3                                         \n",
      "Covariance Type:            nonrobust                                         \n",
      "==============================================================================\n",
      "                 coef    std err          t      P>|t|      [0.025      0.975]\n",
      "------------------------------------------------------------------------------\n",
      "const        468.4135     10.545     44.422      0.000     447.744     489.083\n",
      "x1            -1.7292      0.486     -3.557      0.000      -2.682      -0.776\n",
      "x2             0.0321      0.007      4.433      0.000       0.018       0.046\n",
      "x3            -0.0002   3.51e-05     -4.340      0.000      -0.000   -8.34e-05\n",
      "==============================================================================\n",
      "Omnibus:                      707.867   Durbin-Watson:                   1.998\n",
      "Prob(Omnibus):                  0.000   Jarque-Bera (JB):              302.057\n",
      "Skew:                           0.223   Prob(JB):                     2.56e-66\n",
      "Kurtosis:                       2.253   Cond. No.                     3.26e+07\n",
      "==============================================================================\n",
      "\n",
      "Notes:\n",
      "[1] Standard Errors assume that the covariance matrix of the errors is correctly specified.\n",
      "[2] The condition number is large, 3.26e+07. This might indicate that there are\n",
      "strong multicollinearity or other numerical problems.\n",
      "\n",
      "\n",
      "P-value of \"RH\",\"RH^2\",\"RH^3\"are smaller than 0.05, so they are all significant. Thus, there is a non-linear association.\n"
     ]
    }
   ],
   "source": [
    "#Ordinary Least Squares Regression\n",
    "ols_RH = sm.OLS(y, mpoly_RH).fit()\n",
    "print(ols_RH.summary())\n",
    "print(\"\\n\")\n",
    "print('P-value of \"RH\",\"RH^2\",\"RH^3\"are smaller than 0.05, so they are all significant. Thus, there is a non-linear association.')"
   ]
  },
  {
   "cell_type": "markdown",
   "metadata": {},
   "source": [
    "(g) Is there evidence of association of interactions of predictors with the response? To answer this question, run a full linear regression model with all pairwise interaction terms and state whether any interaction terms are statistically significant."
   ]
  },
  {
   "cell_type": "code",
   "execution_count": 35,
   "metadata": {},
   "outputs": [],
   "source": [
    "#select variables: AT, V, AP, RH\n",
    "xpoly_full = ccpp.iloc[:,:4]\n",
    "\n",
    "poly_interact = PolynomialFeatures().fit_transform(xpoly_full)\n",
    "#Creating the polynomial regression model\n",
    "mg_poly = LinearRegression().fit(poly_interact,y)\n",
    "\n",
    "ypoly_int = mg_poly.predict(poly_interact)\n"
   ]
  },
  {
   "cell_type": "code",
   "execution_count": 36,
   "metadata": {
    "scrolled": true
   },
   "outputs": [
    {
     "data": {
      "text/html": [
       "<table class=\"simpletable\">\n",
       "<caption>OLS Regression Results</caption>\n",
       "<tr>\n",
       "  <th>Dep. Variable:</th>           <td>PE</td>        <th>  R-squared:         </th> <td>   0.936</td> \n",
       "</tr>\n",
       "<tr>\n",
       "  <th>Model:</th>                   <td>OLS</td>       <th>  Adj. R-squared:    </th> <td>   0.936</td> \n",
       "</tr>\n",
       "<tr>\n",
       "  <th>Method:</th>             <td>Least Squares</td>  <th>  F-statistic:       </th> <td>1.405e+04</td>\n",
       "</tr>\n",
       "<tr>\n",
       "  <th>Date:</th>             <td>Mon, 23 May 2022</td> <th>  Prob (F-statistic):</th>  <td>  0.00</td>  \n",
       "</tr>\n",
       "<tr>\n",
       "  <th>Time:</th>                 <td>13:49:34</td>     <th>  Log-Likelihood:    </th> <td> -27548.</td> \n",
       "</tr>\n",
       "<tr>\n",
       "  <th>No. Observations:</th>      <td>  9568</td>      <th>  AIC:               </th> <td>5.512e+04</td>\n",
       "</tr>\n",
       "<tr>\n",
       "  <th>Df Residuals:</th>          <td>  9557</td>      <th>  BIC:               </th> <td>5.520e+04</td>\n",
       "</tr>\n",
       "<tr>\n",
       "  <th>Df Model:</th>              <td>    10</td>      <th>                     </th>     <td> </td>    \n",
       "</tr>\n",
       "<tr>\n",
       "  <th>Covariance Type:</th>      <td>nonrobust</td>    <th>                     </th>     <td> </td>    \n",
       "</tr>\n",
       "</table>\n",
       "<table class=\"simpletable\">\n",
       "<tr>\n",
       "      <td></td>         <th>coef</th>     <th>std err</th>      <th>t</th>      <th>P>|t|</th>  <th>[0.025</th>    <th>0.975]</th>  \n",
       "</tr>\n",
       "<tr>\n",
       "  <th>Intercept</th> <td>  685.7825</td> <td>   78.640</td> <td>    8.721</td> <td> 0.000</td> <td>  531.631</td> <td>  839.934</td>\n",
       "</tr>\n",
       "<tr>\n",
       "  <th>AT</th>        <td>   -4.3470</td> <td>    2.373</td> <td>   -1.832</td> <td> 0.067</td> <td>   -8.999</td> <td>    0.305</td>\n",
       "</tr>\n",
       "<tr>\n",
       "  <th>V</th>         <td>   -7.6749</td> <td>    1.351</td> <td>   -5.682</td> <td> 0.000</td> <td>  -10.323</td> <td>   -5.027</td>\n",
       "</tr>\n",
       "<tr>\n",
       "  <th>AT:V</th>      <td>    0.0210</td> <td>    0.001</td> <td>   23.338</td> <td> 0.000</td> <td>    0.019</td> <td>    0.023</td>\n",
       "</tr>\n",
       "<tr>\n",
       "  <th>AP</th>        <td>   -0.1524</td> <td>    0.077</td> <td>   -1.983</td> <td> 0.047</td> <td>   -0.303</td> <td>   -0.002</td>\n",
       "</tr>\n",
       "<tr>\n",
       "  <th>AT:AP</th>     <td>    0.0018</td> <td>    0.002</td> <td>    0.752</td> <td> 0.452</td> <td>   -0.003</td> <td>    0.006</td>\n",
       "</tr>\n",
       "<tr>\n",
       "  <th>RH</th>        <td>    1.5709</td> <td>    0.773</td> <td>    2.031</td> <td> 0.042</td> <td>    0.055</td> <td>    3.087</td>\n",
       "</tr>\n",
       "<tr>\n",
       "  <th>AT:RH</th>     <td>   -0.0052</td> <td>    0.001</td> <td>   -6.444</td> <td> 0.000</td> <td>   -0.007</td> <td>   -0.004</td>\n",
       "</tr>\n",
       "<tr>\n",
       "  <th>V:AP</th>      <td>    0.0068</td> <td>    0.001</td> <td>    5.135</td> <td> 0.000</td> <td>    0.004</td> <td>    0.009</td>\n",
       "</tr>\n",
       "<tr>\n",
       "  <th>V:RH</th>      <td>    0.0008</td> <td>    0.000</td> <td>    1.716</td> <td> 0.086</td> <td>   -0.000</td> <td>    0.002</td>\n",
       "</tr>\n",
       "<tr>\n",
       "  <th>AP:RH</th>     <td>   -0.0016</td> <td>    0.001</td> <td>   -2.125</td> <td> 0.034</td> <td>   -0.003</td> <td>   -0.000</td>\n",
       "</tr>\n",
       "</table>\n",
       "<table class=\"simpletable\">\n",
       "<tr>\n",
       "  <th>Omnibus:</th>       <td>1454.609</td> <th>  Durbin-Watson:     </th> <td>   2.030</td>\n",
       "</tr>\n",
       "<tr>\n",
       "  <th>Prob(Omnibus):</th>  <td> 0.000</td>  <th>  Jarque-Bera (JB):  </th> <td>9170.848</td>\n",
       "</tr>\n",
       "<tr>\n",
       "  <th>Skew:</th>           <td>-0.574</td>  <th>  Prob(JB):          </th> <td>    0.00</td>\n",
       "</tr>\n",
       "<tr>\n",
       "  <th>Kurtosis:</th>       <td> 7.657</td>  <th>  Cond. No.          </th> <td>1.70e+08</td>\n",
       "</tr>\n",
       "</table><br/><br/>Notes:<br/>[1] Standard Errors assume that the covariance matrix of the errors is correctly specified.<br/>[2] The condition number is large, 1.7e+08. This might indicate that there are<br/>strong multicollinearity or other numerical problems."
      ],
      "text/plain": [
       "<class 'statsmodels.iolib.summary.Summary'>\n",
       "\"\"\"\n",
       "                            OLS Regression Results                            \n",
       "==============================================================================\n",
       "Dep. Variable:                     PE   R-squared:                       0.936\n",
       "Model:                            OLS   Adj. R-squared:                  0.936\n",
       "Method:                 Least Squares   F-statistic:                 1.405e+04\n",
       "Date:                Mon, 23 May 2022   Prob (F-statistic):               0.00\n",
       "Time:                        13:49:34   Log-Likelihood:                -27548.\n",
       "No. Observations:                9568   AIC:                         5.512e+04\n",
       "Df Residuals:                    9557   BIC:                         5.520e+04\n",
       "Df Model:                          10                                         \n",
       "Covariance Type:            nonrobust                                         \n",
       "==============================================================================\n",
       "                 coef    std err          t      P>|t|      [0.025      0.975]\n",
       "------------------------------------------------------------------------------\n",
       "Intercept    685.7825     78.640      8.721      0.000     531.631     839.934\n",
       "AT            -4.3470      2.373     -1.832      0.067      -8.999       0.305\n",
       "V             -7.6749      1.351     -5.682      0.000     -10.323      -5.027\n",
       "AT:V           0.0210      0.001     23.338      0.000       0.019       0.023\n",
       "AP            -0.1524      0.077     -1.983      0.047      -0.303      -0.002\n",
       "AT:AP          0.0018      0.002      0.752      0.452      -0.003       0.006\n",
       "RH             1.5709      0.773      2.031      0.042       0.055       3.087\n",
       "AT:RH         -0.0052      0.001     -6.444      0.000      -0.007      -0.004\n",
       "V:AP           0.0068      0.001      5.135      0.000       0.004       0.009\n",
       "V:RH           0.0008      0.000      1.716      0.086      -0.000       0.002\n",
       "AP:RH         -0.0016      0.001     -2.125      0.034      -0.003      -0.000\n",
       "==============================================================================\n",
       "Omnibus:                     1454.609   Durbin-Watson:                   2.030\n",
       "Prob(Omnibus):                  0.000   Jarque-Bera (JB):             9170.848\n",
       "Skew:                          -0.574   Prob(JB):                         0.00\n",
       "Kurtosis:                       7.657   Cond. No.                     1.70e+08\n",
       "==============================================================================\n",
       "\n",
       "Notes:\n",
       "[1] Standard Errors assume that the covariance matrix of the errors is correctly specified.\n",
       "[2] The condition number is large, 1.7e+08. This might indicate that there are\n",
       "strong multicollinearity or other numerical problems.\n",
       "\"\"\""
      ]
     },
     "execution_count": 36,
     "metadata": {},
     "output_type": "execute_result"
    }
   ],
   "source": [
    "#Ordinary Least Squares Regression\n",
    "ols_interact = smf.ols('PE ~ AT*V + AT*AP + AT*RH + V*AP + V*RH + AP*RH', data = ccpp).fit()\n",
    "\n",
    "#print summary of interaction terms\n",
    "ols_interact.summary()"
   ]
  },
  {
   "cell_type": "code",
   "execution_count": 37,
   "metadata": {},
   "outputs": [
    {
     "name": "stdout",
     "output_type": "stream",
     "text": [
      "Since the p-value of interaction AT*V, AT*RH, V*AP and AP*RH are smaller than 0.05, AT*V, AT*RH, V*AP and AP*RH are  significant interaction.\n",
      "Therefore, we have evidence  (AT*V, AT*RH, V*AP and AP*RH)     of association of interactions of predictors with the response. \n"
     ]
    }
   ],
   "source": [
    "print('Since the p-value of interaction AT*V, AT*RH, V*AP and AP*RH are smaller than 0.05, AT*V, AT*RH, V*AP and AP*RH are  significant interaction.')\n",
    "print('Therefore, we have evidence  (AT*V, AT*RH, V*AP and AP*RH)     of association of interactions of predictors with the response. ')\n"
   ]
  },
  {
   "cell_type": "code",
   "execution_count": null,
   "metadata": {},
   "outputs": [],
   "source": []
  },
  {
   "cell_type": "markdown",
   "metadata": {},
   "source": [
    "(h) Can you improve your model using possible interaction terms or nonlinear associations between the predictors and response? Train the regression model on a randomly selected 70% subset of the data with all predictors. Also, run a regression model involving all possible interaction terms and quadratic nonlinearities, and remove insignificant variables using p-values (be careful about interaction terms). Test both models on the remaining points and report your train and test MSEs."
   ]
  },
  {
   "cell_type": "code",
   "execution_count": 38,
   "metadata": {},
   "outputs": [],
   "source": [
    "X = ccpp.iloc[:,:4]\n",
    "y = ccpp.iloc[:,4:5]\n",
    "# Train the regression model on a randomly selected 70% subset of the data\n",
    "X_train, X_test, y_train, y_test = train_test_split(X, y, train_size=0.70, random_state=42)\n"
   ]
  },
  {
   "cell_type": "code",
   "execution_count": 39,
   "metadata": {},
   "outputs": [
    {
     "name": "stdout",
     "output_type": "stream",
     "text": [
      "min test MSE of multiple regression: \n",
      " 21.239856938225493\n",
      "min train MSE of multiple regression: \n",
      " 20.580839725738695\n"
     ]
    }
   ],
   "source": [
    "#Fit a multiple regression model\n",
    "mh_mul = LinearRegression()\n",
    "mh_mul.fit(X_train, y_train)\n",
    "\n",
    "yh_mul_test = mh_mul.predict(X_test)\n",
    "yh_mul_train = mh_mul.predict(X_train)\n",
    "\n",
    "#min test MSE of multiple regression\n",
    "print('min test MSE of multiple regression: \\n', mean_squared_error(y_test, yh_mul_test))\n",
    "\n",
    "#min train MSE of multiple regression\n",
    "print('min train MSE of multiple regression: \\n', mean_squared_error(y_train, yh_mul_train))\n",
    "\n"
   ]
  },
  {
   "cell_type": "code",
   "execution_count": 40,
   "metadata": {},
   "outputs": [],
   "source": [
    "#select variables: AT, V, AP, RH\n",
    "#Polynomial\n",
    "poly_full = PolynomialFeatures()\n",
    "mpoly_full = poly_full.fit_transform(X_train)\n",
    "X_test_poly = poly_full.fit_transform(X_test)\n",
    "\n",
    "mh_full = LinearRegression().fit(mpoly_full, y_train)\n",
    "mh_full_test = LinearRegression().fit(X_test_poly, y_test)\n",
    "\n",
    "y_poly_full = mh_full.predict(mpoly_full)"
   ]
  },
  {
   "cell_type": "code",
   "execution_count": 41,
   "metadata": {
    "scrolled": true
   },
   "outputs": [
    {
     "name": "stdout",
     "output_type": "stream",
     "text": [
      "                            OLS Regression Results                            \n",
      "==============================================================================\n",
      "Dep. Variable:                     PE   R-squared:                       0.938\n",
      "Model:                            OLS   Adj. R-squared:                  0.938\n",
      "Method:                 Least Squares   F-statistic:                     7272.\n",
      "Date:                Mon, 23 May 2022   Prob (F-statistic):               0.00\n",
      "Time:                        13:49:34   Log-Likelihood:                -19160.\n",
      "No. Observations:                6697   AIC:                         3.835e+04\n",
      "Df Residuals:                    6682   BIC:                         3.845e+04\n",
      "Df Model:                          14                                         \n",
      "Covariance Type:            nonrobust                                         \n",
      "==============================================================================\n",
      "                 coef    std err          t      P>|t|      [0.025      0.975]\n",
      "------------------------------------------------------------------------------\n",
      "const      -7664.9809   1429.568     -5.362      0.000   -1.05e+04   -4862.572\n",
      "x1            -7.2885      3.628     -2.009      0.045     -14.401      -0.176\n",
      "x2            -1.9590      1.765     -1.110      0.267      -5.420       1.502\n",
      "x3            15.9308      2.772      5.746      0.000      10.496      21.366\n",
      "x4             3.9121      1.028      3.805      0.000       1.897       5.928\n",
      "x5             0.0185      0.004      5.031      0.000       0.011       0.026\n",
      "x6             0.0095      0.003      2.949      0.003       0.003       0.016\n",
      "x7             0.0046      0.004      1.291      0.197      -0.002       0.011\n",
      "x8            -0.0053      0.002     -2.963      0.003      -0.009      -0.002\n",
      "x9            -0.0004      0.001     -0.386      0.700      -0.002       0.001\n",
      "x10            0.0015      0.002      0.876      0.381      -0.002       0.005\n",
      "x11           -0.0001      0.001     -0.167      0.867      -0.002       0.001\n",
      "x12           -0.0078      0.001     -5.765      0.000      -0.010      -0.005\n",
      "x13           -0.0036      0.001     -3.623      0.000      -0.006      -0.002\n",
      "x14           -0.0019      0.000     -6.065      0.000      -0.003      -0.001\n",
      "==============================================================================\n",
      "Omnibus:                     1187.007   Durbin-Watson:                   2.002\n",
      "Prob(Omnibus):                  0.000   Jarque-Bera (JB):             8209.369\n",
      "Skew:                          -0.669   Prob(JB):                         0.00\n",
      "Kurtosis:                       8.256   Cond. No.                     2.85e+10\n",
      "==============================================================================\n",
      "\n",
      "Notes:\n",
      "[1] Standard Errors assume that the covariance matrix of the errors is correctly specified.\n",
      "[2] The condition number is large, 2.85e+10. This might indicate that there are\n",
      "strong multicollinearity or other numerical problems.\n"
     ]
    }
   ],
   "source": [
    "#Ordinary Least Squares Regression\n",
    "ols_full = sm.OLS(y_train, mpoly_full).fit()\n",
    "print(ols_full.summary())"
   ]
  },
  {
   "cell_type": "code",
   "execution_count": null,
   "metadata": {},
   "outputs": [],
   "source": []
  },
  {
   "cell_type": "code",
   "execution_count": 42,
   "metadata": {},
   "outputs": [
    {
     "name": "stderr",
     "output_type": "stream",
     "text": [
      "/Users/yuyun/opt/anaconda3/lib/python3.8/site-packages/sklearn/utils/deprecation.py:87: FutureWarning: Function get_feature_names is deprecated; get_feature_names is deprecated in 1.0 and will be removed in 1.2. Please use get_feature_names_out instead.\n",
      "  warnings.warn(msg, category=FutureWarning)\n"
     ]
    },
    {
     "data": {
      "text/plain": [
       "['1',\n",
       " 'x0',\n",
       " 'x1',\n",
       " 'x2',\n",
       " 'x3',\n",
       " 'x0^2',\n",
       " 'x0 x1',\n",
       " 'x0 x2',\n",
       " 'x0 x3',\n",
       " 'x1^2',\n",
       " 'x1 x2',\n",
       " 'x1 x3',\n",
       " 'x2^2',\n",
       " 'x2 x3',\n",
       " 'x3^2']"
      ]
     },
     "execution_count": 42,
     "metadata": {},
     "output_type": "execute_result"
    }
   ],
   "source": [
    "features_full = poly_full.get_feature_names()\n",
    "features_full\n",
    "\n",
    "#features: x0 = AT, x1 = V, x2 = AP, x3 = RH"
   ]
  },
  {
   "cell_type": "markdown",
   "metadata": {},
   "source": [
    "#features:x0 = AT, x1 = V, x2 = AP, x3 = RH\n",
    "\n",
    "P-value of const x2(V), x7(AT*AP), x9(V*V), x10(V*AP), x11(V*RH) are smaller than 0.05, thus these are insignificant variables. Firstly, I remove the variable x11(V*RH) with maximum p-value. Then fit the model again, and find out the other significant variables.\n"
   ]
  },
  {
   "cell_type": "code",
   "execution_count": 43,
   "metadata": {},
   "outputs": [
    {
     "data": {
      "text/html": [
       "<div>\n",
       "<style scoped>\n",
       "    .dataframe tbody tr th:only-of-type {\n",
       "        vertical-align: middle;\n",
       "    }\n",
       "\n",
       "    .dataframe tbody tr th {\n",
       "        vertical-align: top;\n",
       "    }\n",
       "\n",
       "    .dataframe thead th {\n",
       "        text-align: right;\n",
       "    }\n",
       "</style>\n",
       "<table border=\"1\" class=\"dataframe\">\n",
       "  <thead>\n",
       "    <tr style=\"text-align: right;\">\n",
       "      <th></th>\n",
       "      <th>0</th>\n",
       "      <th>AT</th>\n",
       "      <th>V</th>\n",
       "      <th>AP</th>\n",
       "      <th>RH</th>\n",
       "      <th>AT^2</th>\n",
       "      <th>AT*V</th>\n",
       "      <th>AT*AP</th>\n",
       "      <th>AT*RH</th>\n",
       "      <th>V^2</th>\n",
       "      <th>V*AP</th>\n",
       "      <th>AP^2</th>\n",
       "      <th>AP*RH</th>\n",
       "      <th>RH^2</th>\n",
       "    </tr>\n",
       "  </thead>\n",
       "  <tbody>\n",
       "    <tr>\n",
       "      <th>0</th>\n",
       "      <td>1.0</td>\n",
       "      <td>16.69</td>\n",
       "      <td>44.78</td>\n",
       "      <td>1010.41</td>\n",
       "      <td>58.18</td>\n",
       "      <td>278.5561</td>\n",
       "      <td>747.3782</td>\n",
       "      <td>16863.7429</td>\n",
       "      <td>971.0242</td>\n",
       "      <td>2005.2484</td>\n",
       "      <td>45246.1598</td>\n",
       "      <td>1.020928e+06</td>\n",
       "      <td>58785.6538</td>\n",
       "      <td>3384.9124</td>\n",
       "    </tr>\n",
       "    <tr>\n",
       "      <th>1</th>\n",
       "      <td>1.0</td>\n",
       "      <td>24.12</td>\n",
       "      <td>58.66</td>\n",
       "      <td>1011.55</td>\n",
       "      <td>58.96</td>\n",
       "      <td>581.7744</td>\n",
       "      <td>1414.8792</td>\n",
       "      <td>24398.5860</td>\n",
       "      <td>1422.1152</td>\n",
       "      <td>3440.9956</td>\n",
       "      <td>59337.5230</td>\n",
       "      <td>1.023233e+06</td>\n",
       "      <td>59640.9880</td>\n",
       "      <td>3476.2816</td>\n",
       "    </tr>\n",
       "    <tr>\n",
       "      <th>2</th>\n",
       "      <td>1.0</td>\n",
       "      <td>9.08</td>\n",
       "      <td>40.02</td>\n",
       "      <td>1031.20</td>\n",
       "      <td>75.34</td>\n",
       "      <td>82.4464</td>\n",
       "      <td>363.3816</td>\n",
       "      <td>9363.2960</td>\n",
       "      <td>684.0872</td>\n",
       "      <td>1601.6004</td>\n",
       "      <td>41268.6240</td>\n",
       "      <td>1.063373e+06</td>\n",
       "      <td>77690.6080</td>\n",
       "      <td>5676.1156</td>\n",
       "    </tr>\n",
       "    <tr>\n",
       "      <th>3</th>\n",
       "      <td>1.0</td>\n",
       "      <td>9.60</td>\n",
       "      <td>41.82</td>\n",
       "      <td>1032.93</td>\n",
       "      <td>72.63</td>\n",
       "      <td>92.1600</td>\n",
       "      <td>401.4720</td>\n",
       "      <td>9916.1280</td>\n",
       "      <td>697.2480</td>\n",
       "      <td>1748.9124</td>\n",
       "      <td>43197.1326</td>\n",
       "      <td>1.066944e+06</td>\n",
       "      <td>75021.7059</td>\n",
       "      <td>5275.1169</td>\n",
       "    </tr>\n",
       "    <tr>\n",
       "      <th>4</th>\n",
       "      <td>1.0</td>\n",
       "      <td>20.77</td>\n",
       "      <td>56.85</td>\n",
       "      <td>1012.40</td>\n",
       "      <td>83.63</td>\n",
       "      <td>431.3929</td>\n",
       "      <td>1180.7745</td>\n",
       "      <td>21027.5480</td>\n",
       "      <td>1736.9951</td>\n",
       "      <td>3231.9225</td>\n",
       "      <td>57554.9400</td>\n",
       "      <td>1.024954e+06</td>\n",
       "      <td>84667.0120</td>\n",
       "      <td>6993.9769</td>\n",
       "    </tr>\n",
       "    <tr>\n",
       "      <th>...</th>\n",
       "      <td>...</td>\n",
       "      <td>...</td>\n",
       "      <td>...</td>\n",
       "      <td>...</td>\n",
       "      <td>...</td>\n",
       "      <td>...</td>\n",
       "      <td>...</td>\n",
       "      <td>...</td>\n",
       "      <td>...</td>\n",
       "      <td>...</td>\n",
       "      <td>...</td>\n",
       "      <td>...</td>\n",
       "      <td>...</td>\n",
       "      <td>...</td>\n",
       "    </tr>\n",
       "    <tr>\n",
       "      <th>6692</th>\n",
       "      <td>1.0</td>\n",
       "      <td>23.39</td>\n",
       "      <td>61.87</td>\n",
       "      <td>1010.35</td>\n",
       "      <td>48.91</td>\n",
       "      <td>547.0921</td>\n",
       "      <td>1447.1393</td>\n",
       "      <td>23632.0865</td>\n",
       "      <td>1144.0049</td>\n",
       "      <td>3827.8969</td>\n",
       "      <td>62510.3545</td>\n",
       "      <td>1.020807e+06</td>\n",
       "      <td>49416.2185</td>\n",
       "      <td>2392.1881</td>\n",
       "    </tr>\n",
       "    <tr>\n",
       "      <th>6693</th>\n",
       "      <td>1.0</td>\n",
       "      <td>11.63</td>\n",
       "      <td>40.55</td>\n",
       "      <td>1022.89</td>\n",
       "      <td>87.12</td>\n",
       "      <td>135.2569</td>\n",
       "      <td>471.5965</td>\n",
       "      <td>11896.2107</td>\n",
       "      <td>1013.2056</td>\n",
       "      <td>1644.3025</td>\n",
       "      <td>41478.1895</td>\n",
       "      <td>1.046304e+06</td>\n",
       "      <td>89114.1768</td>\n",
       "      <td>7589.8944</td>\n",
       "    </tr>\n",
       "    <tr>\n",
       "      <th>6694</th>\n",
       "      <td>1.0</td>\n",
       "      <td>27.79</td>\n",
       "      <td>69.23</td>\n",
       "      <td>1012.86</td>\n",
       "      <td>45.71</td>\n",
       "      <td>772.2841</td>\n",
       "      <td>1923.9017</td>\n",
       "      <td>28147.3794</td>\n",
       "      <td>1270.2809</td>\n",
       "      <td>4792.7929</td>\n",
       "      <td>70120.2978</td>\n",
       "      <td>1.025885e+06</td>\n",
       "      <td>46297.8306</td>\n",
       "      <td>2089.4041</td>\n",
       "    </tr>\n",
       "    <tr>\n",
       "      <th>6695</th>\n",
       "      <td>1.0</td>\n",
       "      <td>12.26</td>\n",
       "      <td>41.50</td>\n",
       "      <td>1014.87</td>\n",
       "      <td>89.41</td>\n",
       "      <td>150.3076</td>\n",
       "      <td>508.7900</td>\n",
       "      <td>12442.3062</td>\n",
       "      <td>1096.1666</td>\n",
       "      <td>1722.2500</td>\n",
       "      <td>42117.1050</td>\n",
       "      <td>1.029961e+06</td>\n",
       "      <td>90739.5267</td>\n",
       "      <td>7994.1481</td>\n",
       "    </tr>\n",
       "    <tr>\n",
       "      <th>6696</th>\n",
       "      <td>1.0</td>\n",
       "      <td>11.75</td>\n",
       "      <td>40.55</td>\n",
       "      <td>1018.09</td>\n",
       "      <td>97.70</td>\n",
       "      <td>138.0625</td>\n",
       "      <td>476.4625</td>\n",
       "      <td>11962.5575</td>\n",
       "      <td>1147.9750</td>\n",
       "      <td>1644.3025</td>\n",
       "      <td>41283.5495</td>\n",
       "      <td>1.036507e+06</td>\n",
       "      <td>99467.3930</td>\n",
       "      <td>9545.2900</td>\n",
       "    </tr>\n",
       "  </tbody>\n",
       "</table>\n",
       "<p>6697 rows × 14 columns</p>\n",
       "</div>"
      ],
      "text/plain": [
       "        0     AT      V       AP     RH      AT^2       AT*V       AT*AP  \\\n",
       "0     1.0  16.69  44.78  1010.41  58.18  278.5561   747.3782  16863.7429   \n",
       "1     1.0  24.12  58.66  1011.55  58.96  581.7744  1414.8792  24398.5860   \n",
       "2     1.0   9.08  40.02  1031.20  75.34   82.4464   363.3816   9363.2960   \n",
       "3     1.0   9.60  41.82  1032.93  72.63   92.1600   401.4720   9916.1280   \n",
       "4     1.0  20.77  56.85  1012.40  83.63  431.3929  1180.7745  21027.5480   \n",
       "...   ...    ...    ...      ...    ...       ...        ...         ...   \n",
       "6692  1.0  23.39  61.87  1010.35  48.91  547.0921  1447.1393  23632.0865   \n",
       "6693  1.0  11.63  40.55  1022.89  87.12  135.2569   471.5965  11896.2107   \n",
       "6694  1.0  27.79  69.23  1012.86  45.71  772.2841  1923.9017  28147.3794   \n",
       "6695  1.0  12.26  41.50  1014.87  89.41  150.3076   508.7900  12442.3062   \n",
       "6696  1.0  11.75  40.55  1018.09  97.70  138.0625   476.4625  11962.5575   \n",
       "\n",
       "          AT*RH        V^2        V*AP          AP^2       AP*RH       RH^2  \n",
       "0      971.0242  2005.2484  45246.1598  1.020928e+06  58785.6538  3384.9124  \n",
       "1     1422.1152  3440.9956  59337.5230  1.023233e+06  59640.9880  3476.2816  \n",
       "2      684.0872  1601.6004  41268.6240  1.063373e+06  77690.6080  5676.1156  \n",
       "3      697.2480  1748.9124  43197.1326  1.066944e+06  75021.7059  5275.1169  \n",
       "4     1736.9951  3231.9225  57554.9400  1.024954e+06  84667.0120  6993.9769  \n",
       "...         ...        ...         ...           ...         ...        ...  \n",
       "6692  1144.0049  3827.8969  62510.3545  1.020807e+06  49416.2185  2392.1881  \n",
       "6693  1013.2056  1644.3025  41478.1895  1.046304e+06  89114.1768  7589.8944  \n",
       "6694  1270.2809  4792.7929  70120.2978  1.025885e+06  46297.8306  2089.4041  \n",
       "6695  1096.1666  1722.2500  42117.1050  1.029961e+06  90739.5267  7994.1481  \n",
       "6696  1147.9750  1644.3025  41283.5495  1.036507e+06  99467.3930  9545.2900  \n",
       "\n",
       "[6697 rows x 14 columns]"
      ]
     },
     "execution_count": 43,
     "metadata": {},
     "output_type": "execute_result"
    }
   ],
   "source": [
    "df1poly_full = pd.DataFrame(mpoly_full)\n",
    "df1poly_full = df1poly_full.rename(columns={1: \"AT\", 2: \"V\",3:\"AP\",4:\"RH\",5:\"AT^2\",6:\"AT*V\",7:\"AT*AP\",8:\"AT*RH\",\n",
    "                             9:\"V^2\",10:\"V*AP\",11:\"V*RH\",12:\"AP^2\",13:\"AP*RH\",14:\"RH^2\"})\n",
    "#remove the variable x10(AP^2) \n",
    "df2poly_full = df1poly_full.drop(columns=[\"V*RH\"])\n",
    "df2poly_full\n"
   ]
  },
  {
   "cell_type": "code",
   "execution_count": 44,
   "metadata": {},
   "outputs": [
    {
     "data": {
      "text/html": [
       "<table class=\"simpletable\">\n",
       "<caption>OLS Regression Results</caption>\n",
       "<tr>\n",
       "  <th>Dep. Variable:</th>           <td>PE</td>        <th>  R-squared:         </th> <td>   0.938</td> \n",
       "</tr>\n",
       "<tr>\n",
       "  <th>Model:</th>                   <td>OLS</td>       <th>  Adj. R-squared:    </th> <td>   0.938</td> \n",
       "</tr>\n",
       "<tr>\n",
       "  <th>Method:</th>             <td>Least Squares</td>  <th>  F-statistic:       </th> <td>   7832.</td> \n",
       "</tr>\n",
       "<tr>\n",
       "  <th>Date:</th>             <td>Mon, 23 May 2022</td> <th>  Prob (F-statistic):</th>  <td>  0.00</td>  \n",
       "</tr>\n",
       "<tr>\n",
       "  <th>Time:</th>                 <td>13:49:34</td>     <th>  Log-Likelihood:    </th> <td> -19160.</td> \n",
       "</tr>\n",
       "<tr>\n",
       "  <th>No. Observations:</th>      <td>  6697</td>      <th>  AIC:               </th> <td>3.835e+04</td>\n",
       "</tr>\n",
       "<tr>\n",
       "  <th>Df Residuals:</th>          <td>  6683</td>      <th>  BIC:               </th> <td>3.844e+04</td>\n",
       "</tr>\n",
       "<tr>\n",
       "  <th>Df Model:</th>              <td>    13</td>      <th>                     </th>     <td> </td>    \n",
       "</tr>\n",
       "<tr>\n",
       "  <th>Covariance Type:</th>      <td>nonrobust</td>    <th>                     </th>     <td> </td>    \n",
       "</tr>\n",
       "</table>\n",
       "<table class=\"simpletable\">\n",
       "<tr>\n",
       "    <td></td>       <th>coef</th>     <th>std err</th>      <th>t</th>      <th>P>|t|</th>  <th>[0.025</th>    <th>0.975]</th>  \n",
       "</tr>\n",
       "<tr>\n",
       "  <th>const</th> <td>-7677.4947</td> <td> 1427.498</td> <td>   -5.378</td> <td> 0.000</td> <td>-1.05e+04</td> <td>-4879.143</td>\n",
       "</tr>\n",
       "<tr>\n",
       "  <th>x1</th>    <td>   -7.1420</td> <td>    3.521</td> <td>   -2.029</td> <td> 0.043</td> <td>  -14.043</td> <td>   -0.241</td>\n",
       "</tr>\n",
       "<tr>\n",
       "  <th>x2</th>    <td>   -2.0451</td> <td>    1.688</td> <td>   -1.212</td> <td> 0.226</td> <td>   -5.354</td> <td>    1.264</td>\n",
       "</tr>\n",
       "<tr>\n",
       "  <th>x3</th>    <td>   15.9551</td> <td>    2.768</td> <td>    5.763</td> <td> 0.000</td> <td>   10.528</td> <td>   21.382</td>\n",
       "</tr>\n",
       "<tr>\n",
       "  <th>x4</th>    <td>    3.9434</td> <td>    1.011</td> <td>    3.901</td> <td> 0.000</td> <td>    1.962</td> <td>    5.925</td>\n",
       "</tr>\n",
       "<tr>\n",
       "  <th>x5</th>    <td>    0.0181</td> <td>    0.003</td> <td>    6.362</td> <td> 0.000</td> <td>    0.013</td> <td>    0.024</td>\n",
       "</tr>\n",
       "<tr>\n",
       "  <th>x6</th>    <td>    0.0098</td> <td>    0.002</td> <td>    4.018</td> <td> 0.000</td> <td>    0.005</td> <td>    0.015</td>\n",
       "</tr>\n",
       "<tr>\n",
       "  <th>x7</th>    <td>    0.0044</td> <td>    0.003</td> <td>    1.286</td> <td> 0.198</td> <td>   -0.002</td> <td>    0.011</td>\n",
       "</tr>\n",
       "<tr>\n",
       "  <th>x8</th>    <td>   -0.0055</td> <td>    0.001</td> <td>   -5.669</td> <td> 0.000</td> <td>   -0.007</td> <td>   -0.004</td>\n",
       "</tr>\n",
       "<tr>\n",
       "  <th>x9</th>    <td>   -0.0004</td> <td>    0.001</td> <td>   -0.513</td> <td> 0.608</td> <td>   -0.002</td> <td>    0.001</td>\n",
       "</tr>\n",
       "<tr>\n",
       "  <th>x10</th>   <td>    0.0016</td> <td>    0.002</td> <td>    0.955</td> <td> 0.340</td> <td>   -0.002</td> <td>    0.005</td>\n",
       "</tr>\n",
       "<tr>\n",
       "  <th>x11</th>   <td>   -0.0078</td> <td>    0.001</td> <td>   -5.782</td> <td> 0.000</td> <td>   -0.010</td> <td>   -0.005</td>\n",
       "</tr>\n",
       "<tr>\n",
       "  <th>x12</th>   <td>   -0.0036</td> <td>    0.001</td> <td>   -3.712</td> <td> 0.000</td> <td>   -0.006</td> <td>   -0.002</td>\n",
       "</tr>\n",
       "<tr>\n",
       "  <th>x13</th>   <td>   -0.0019</td> <td>    0.000</td> <td>   -6.945</td> <td> 0.000</td> <td>   -0.002</td> <td>   -0.001</td>\n",
       "</tr>\n",
       "</table>\n",
       "<table class=\"simpletable\">\n",
       "<tr>\n",
       "  <th>Omnibus:</th>       <td>1187.236</td> <th>  Durbin-Watson:     </th> <td>   2.002</td>\n",
       "</tr>\n",
       "<tr>\n",
       "  <th>Prob(Omnibus):</th>  <td> 0.000</td>  <th>  Jarque-Bera (JB):  </th> <td>8216.085</td>\n",
       "</tr>\n",
       "<tr>\n",
       "  <th>Skew:</th>           <td>-0.669</td>  <th>  Prob(JB):          </th> <td>    0.00</td>\n",
       "</tr>\n",
       "<tr>\n",
       "  <th>Kurtosis:</th>       <td> 8.259</td>  <th>  Cond. No.          </th> <td>2.85e+10</td>\n",
       "</tr>\n",
       "</table><br/><br/>Notes:<br/>[1] Standard Errors assume that the covariance matrix of the errors is correctly specified.<br/>[2] The condition number is large, 2.85e+10. This might indicate that there are<br/>strong multicollinearity or other numerical problems."
      ],
      "text/plain": [
       "<class 'statsmodels.iolib.summary.Summary'>\n",
       "\"\"\"\n",
       "                            OLS Regression Results                            \n",
       "==============================================================================\n",
       "Dep. Variable:                     PE   R-squared:                       0.938\n",
       "Model:                            OLS   Adj. R-squared:                  0.938\n",
       "Method:                 Least Squares   F-statistic:                     7832.\n",
       "Date:                Mon, 23 May 2022   Prob (F-statistic):               0.00\n",
       "Time:                        13:49:34   Log-Likelihood:                -19160.\n",
       "No. Observations:                6697   AIC:                         3.835e+04\n",
       "Df Residuals:                    6683   BIC:                         3.844e+04\n",
       "Df Model:                          13                                         \n",
       "Covariance Type:            nonrobust                                         \n",
       "==============================================================================\n",
       "                 coef    std err          t      P>|t|      [0.025      0.975]\n",
       "------------------------------------------------------------------------------\n",
       "const      -7677.4947   1427.498     -5.378      0.000   -1.05e+04   -4879.143\n",
       "x1            -7.1420      3.521     -2.029      0.043     -14.043      -0.241\n",
       "x2            -2.0451      1.688     -1.212      0.226      -5.354       1.264\n",
       "x3            15.9551      2.768      5.763      0.000      10.528      21.382\n",
       "x4             3.9434      1.011      3.901      0.000       1.962       5.925\n",
       "x5             0.0181      0.003      6.362      0.000       0.013       0.024\n",
       "x6             0.0098      0.002      4.018      0.000       0.005       0.015\n",
       "x7             0.0044      0.003      1.286      0.198      -0.002       0.011\n",
       "x8            -0.0055      0.001     -5.669      0.000      -0.007      -0.004\n",
       "x9            -0.0004      0.001     -0.513      0.608      -0.002       0.001\n",
       "x10            0.0016      0.002      0.955      0.340      -0.002       0.005\n",
       "x11           -0.0078      0.001     -5.782      0.000      -0.010      -0.005\n",
       "x12           -0.0036      0.001     -3.712      0.000      -0.006      -0.002\n",
       "x13           -0.0019      0.000     -6.945      0.000      -0.002      -0.001\n",
       "==============================================================================\n",
       "Omnibus:                     1187.236   Durbin-Watson:                   2.002\n",
       "Prob(Omnibus):                  0.000   Jarque-Bera (JB):             8216.085\n",
       "Skew:                          -0.669   Prob(JB):                         0.00\n",
       "Kurtosis:                       8.259   Cond. No.                     2.85e+10\n",
       "==============================================================================\n",
       "\n",
       "Notes:\n",
       "[1] Standard Errors assume that the covariance matrix of the errors is correctly specified.\n",
       "[2] The condition number is large, 2.85e+10. This might indicate that there are\n",
       "strong multicollinearity or other numerical problems.\n",
       "\"\"\""
      ]
     },
     "execution_count": 44,
     "metadata": {},
     "output_type": "execute_result"
    }
   ],
   "source": [
    "#Fit Ordinary Least Squares Regression after dropping the x11(V*RH)\n",
    "\n",
    "ols2_full = sm.OLS(y_train, df2poly_full.to_numpy())\n",
    "results2 = ols2_full.fit()\n",
    "\n",
    "results2.summary()\n"
   ]
  },
  {
   "cell_type": "markdown",
   "metadata": {},
   "source": [
    "#columns={1: \"AT\", 2: \"V\",3:\"AP\",4:\"RH\",5:\"AT^2\",6:\"AT*V\",7:\"AT*AP\",8:\"AT*RH\",\n",
    "          9:\"V^2\",10:\"V*AP\",11:\"AP^2\",12:\"AP*RH\",13:\"RH^2\"}\n",
    "          \n",
    "#According to the p-value above, I remove the variable x10(AP^2) with maximum p-value. Then fit the model again, and find out the other significant variables."
   ]
  },
  {
   "cell_type": "code",
   "execution_count": 45,
   "metadata": {},
   "outputs": [
    {
     "data": {
      "text/html": [
       "<table class=\"simpletable\">\n",
       "<caption>OLS Regression Results</caption>\n",
       "<tr>\n",
       "  <th>Dep. Variable:</th>           <td>PE</td>        <th>  R-squared:         </th> <td>   0.938</td> \n",
       "</tr>\n",
       "<tr>\n",
       "  <th>Model:</th>                   <td>OLS</td>       <th>  Adj. R-squared:    </th> <td>   0.938</td> \n",
       "</tr>\n",
       "<tr>\n",
       "  <th>Method:</th>             <td>Least Squares</td>  <th>  F-statistic:       </th> <td>   8486.</td> \n",
       "</tr>\n",
       "<tr>\n",
       "  <th>Date:</th>             <td>Mon, 23 May 2022</td> <th>  Prob (F-statistic):</th>  <td>  0.00</td>  \n",
       "</tr>\n",
       "<tr>\n",
       "  <th>Time:</th>                 <td>13:49:34</td>     <th>  Log-Likelihood:    </th> <td> -19160.</td> \n",
       "</tr>\n",
       "<tr>\n",
       "  <th>No. Observations:</th>      <td>  6697</td>      <th>  AIC:               </th> <td>3.835e+04</td>\n",
       "</tr>\n",
       "<tr>\n",
       "  <th>Df Residuals:</th>          <td>  6684</td>      <th>  BIC:               </th> <td>3.844e+04</td>\n",
       "</tr>\n",
       "<tr>\n",
       "  <th>Df Model:</th>              <td>    12</td>      <th>                     </th>     <td> </td>    \n",
       "</tr>\n",
       "<tr>\n",
       "  <th>Covariance Type:</th>      <td>nonrobust</td>    <th>                     </th>     <td> </td>    \n",
       "</tr>\n",
       "</table>\n",
       "<table class=\"simpletable\">\n",
       "<tr>\n",
       "    <td></td>       <th>coef</th>     <th>std err</th>      <th>t</th>      <th>P>|t|</th>  <th>[0.025</th>    <th>0.975]</th>  \n",
       "</tr>\n",
       "<tr>\n",
       "  <th>const</th> <td>-7693.6035</td> <td> 1427.075</td> <td>   -5.391</td> <td> 0.000</td> <td>-1.05e+04</td> <td>-4896.082</td>\n",
       "</tr>\n",
       "<tr>\n",
       "  <th>x1</th>    <td>   -7.2403</td> <td>    3.515</td> <td>   -2.060</td> <td> 0.039</td> <td>  -14.131</td> <td>   -0.350</td>\n",
       "</tr>\n",
       "<tr>\n",
       "  <th>x2</th>    <td>   -2.0111</td> <td>    1.687</td> <td>   -1.192</td> <td> 0.233</td> <td>   -5.318</td> <td>    1.295</td>\n",
       "</tr>\n",
       "<tr>\n",
       "  <th>x3</th>    <td>   15.9841</td> <td>    2.768</td> <td>    5.775</td> <td> 0.000</td> <td>   10.559</td> <td>   21.410</td>\n",
       "</tr>\n",
       "<tr>\n",
       "  <th>x4</th>    <td>    3.9648</td> <td>    1.010</td> <td>    3.926</td> <td> 0.000</td> <td>    1.985</td> <td>    5.945</td>\n",
       "</tr>\n",
       "<tr>\n",
       "  <th>x5</th>    <td>    0.0187</td> <td>    0.003</td> <td>    7.339</td> <td> 0.000</td> <td>    0.014</td> <td>    0.024</td>\n",
       "</tr>\n",
       "<tr>\n",
       "  <th>x6</th>    <td>    0.0089</td> <td>    0.002</td> <td>    5.524</td> <td> 0.000</td> <td>    0.006</td> <td>    0.012</td>\n",
       "</tr>\n",
       "<tr>\n",
       "  <th>x7</th>    <td>    0.0046</td> <td>    0.003</td> <td>    1.327</td> <td> 0.185</td> <td>   -0.002</td> <td>    0.011</td>\n",
       "</tr>\n",
       "<tr>\n",
       "  <th>x8</th>    <td>   -0.0056</td> <td>    0.001</td> <td>   -5.769</td> <td> 0.000</td> <td>   -0.007</td> <td>   -0.004</td>\n",
       "</tr>\n",
       "<tr>\n",
       "  <th>x9</th>    <td>    0.0015</td> <td>    0.002</td> <td>    0.920</td> <td> 0.358</td> <td>   -0.002</td> <td>    0.005</td>\n",
       "</tr>\n",
       "<tr>\n",
       "  <th>x10</th>   <td>   -0.0078</td> <td>    0.001</td> <td>   -5.793</td> <td> 0.000</td> <td>   -0.010</td> <td>   -0.005</td>\n",
       "</tr>\n",
       "<tr>\n",
       "  <th>x11</th>   <td>   -0.0036</td> <td>    0.001</td> <td>   -3.733</td> <td> 0.000</td> <td>   -0.006</td> <td>   -0.002</td>\n",
       "</tr>\n",
       "<tr>\n",
       "  <th>x12</th>   <td>   -0.0019</td> <td>    0.000</td> <td>   -7.007</td> <td> 0.000</td> <td>   -0.002</td> <td>   -0.001</td>\n",
       "</tr>\n",
       "</table>\n",
       "<table class=\"simpletable\">\n",
       "<tr>\n",
       "  <th>Omnibus:</th>       <td>1187.391</td> <th>  Durbin-Watson:     </th> <td>   2.002</td>\n",
       "</tr>\n",
       "<tr>\n",
       "  <th>Prob(Omnibus):</th>  <td> 0.000</td>  <th>  Jarque-Bera (JB):  </th> <td>8203.546</td>\n",
       "</tr>\n",
       "<tr>\n",
       "  <th>Skew:</th>           <td>-0.670</td>  <th>  Prob(JB):          </th> <td>    0.00</td>\n",
       "</tr>\n",
       "<tr>\n",
       "  <th>Kurtosis:</th>       <td> 8.254</td>  <th>  Cond. No.          </th> <td>2.84e+10</td>\n",
       "</tr>\n",
       "</table><br/><br/>Notes:<br/>[1] Standard Errors assume that the covariance matrix of the errors is correctly specified.<br/>[2] The condition number is large, 2.84e+10. This might indicate that there are<br/>strong multicollinearity or other numerical problems."
      ],
      "text/plain": [
       "<class 'statsmodels.iolib.summary.Summary'>\n",
       "\"\"\"\n",
       "                            OLS Regression Results                            \n",
       "==============================================================================\n",
       "Dep. Variable:                     PE   R-squared:                       0.938\n",
       "Model:                            OLS   Adj. R-squared:                  0.938\n",
       "Method:                 Least Squares   F-statistic:                     8486.\n",
       "Date:                Mon, 23 May 2022   Prob (F-statistic):               0.00\n",
       "Time:                        13:49:34   Log-Likelihood:                -19160.\n",
       "No. Observations:                6697   AIC:                         3.835e+04\n",
       "Df Residuals:                    6684   BIC:                         3.844e+04\n",
       "Df Model:                          12                                         \n",
       "Covariance Type:            nonrobust                                         \n",
       "==============================================================================\n",
       "                 coef    std err          t      P>|t|      [0.025      0.975]\n",
       "------------------------------------------------------------------------------\n",
       "const      -7693.6035   1427.075     -5.391      0.000   -1.05e+04   -4896.082\n",
       "x1            -7.2403      3.515     -2.060      0.039     -14.131      -0.350\n",
       "x2            -2.0111      1.687     -1.192      0.233      -5.318       1.295\n",
       "x3            15.9841      2.768      5.775      0.000      10.559      21.410\n",
       "x4             3.9648      1.010      3.926      0.000       1.985       5.945\n",
       "x5             0.0187      0.003      7.339      0.000       0.014       0.024\n",
       "x6             0.0089      0.002      5.524      0.000       0.006       0.012\n",
       "x7             0.0046      0.003      1.327      0.185      -0.002       0.011\n",
       "x8            -0.0056      0.001     -5.769      0.000      -0.007      -0.004\n",
       "x9             0.0015      0.002      0.920      0.358      -0.002       0.005\n",
       "x10           -0.0078      0.001     -5.793      0.000      -0.010      -0.005\n",
       "x11           -0.0036      0.001     -3.733      0.000      -0.006      -0.002\n",
       "x12           -0.0019      0.000     -7.007      0.000      -0.002      -0.001\n",
       "==============================================================================\n",
       "Omnibus:                     1187.391   Durbin-Watson:                   2.002\n",
       "Prob(Omnibus):                  0.000   Jarque-Bera (JB):             8203.546\n",
       "Skew:                          -0.670   Prob(JB):                         0.00\n",
       "Kurtosis:                       8.254   Cond. No.                     2.84e+10\n",
       "==============================================================================\n",
       "\n",
       "Notes:\n",
       "[1] Standard Errors assume that the covariance matrix of the errors is correctly specified.\n",
       "[2] The condition number is large, 2.84e+10. This might indicate that there are\n",
       "strong multicollinearity or other numerical problems.\n",
       "\"\"\""
      ]
     },
     "execution_count": 45,
     "metadata": {},
     "output_type": "execute_result"
    }
   ],
   "source": [
    "#remove the variable x10(AP^2) \n",
    "df3poly_full = df2poly_full.drop(columns=[\"V^2\"])\n",
    "df3poly_full\n",
    "#Fit Ordinary Least Squares Regression after dropping the x10(AP^2)\n",
    "ols3_full = sm.OLS(y_train, df3poly_full.to_numpy())\n",
    "results3 = ols3_full.fit()\n",
    "\n",
    "results3.summary()"
   ]
  },
  {
   "cell_type": "markdown",
   "metadata": {},
   "source": [
    "#columns={1: \"AT\", 2: \"V\",3:\"AP\",4:\"RH\",5:\"AT^2\",6:\"AT*V\",7:\"AT*AP\",8:\"AT*RH\",\n",
    "          9:\"V*AP\",10:\"AP^2\",11:\"AP*RH\",12:\"RH^2\"}\n",
    "          \n",
    "#According to the p-value above, I remove the variable x9(V*AP) with maximum p-value. Then fit the model again, and find out the other significant variables."
   ]
  },
  {
   "cell_type": "code",
   "execution_count": 46,
   "metadata": {},
   "outputs": [
    {
     "data": {
      "text/html": [
       "<table class=\"simpletable\">\n",
       "<caption>OLS Regression Results</caption>\n",
       "<tr>\n",
       "  <th>Dep. Variable:</th>           <td>PE</td>        <th>  R-squared:         </th> <td>   0.938</td> \n",
       "</tr>\n",
       "<tr>\n",
       "  <th>Model:</th>                   <td>OLS</td>       <th>  Adj. R-squared:    </th> <td>   0.938</td> \n",
       "</tr>\n",
       "<tr>\n",
       "  <th>Method:</th>             <td>Least Squares</td>  <th>  F-statistic:       </th> <td>   9258.</td> \n",
       "</tr>\n",
       "<tr>\n",
       "  <th>Date:</th>             <td>Mon, 23 May 2022</td> <th>  Prob (F-statistic):</th>  <td>  0.00</td>  \n",
       "</tr>\n",
       "<tr>\n",
       "  <th>Time:</th>                 <td>13:49:34</td>     <th>  Log-Likelihood:    </th> <td> -19161.</td> \n",
       "</tr>\n",
       "<tr>\n",
       "  <th>No. Observations:</th>      <td>  6697</td>      <th>  AIC:               </th> <td>3.835e+04</td>\n",
       "</tr>\n",
       "<tr>\n",
       "  <th>Df Residuals:</th>          <td>  6685</td>      <th>  BIC:               </th> <td>3.843e+04</td>\n",
       "</tr>\n",
       "<tr>\n",
       "  <th>Df Model:</th>              <td>    11</td>      <th>                     </th>     <td> </td>    \n",
       "</tr>\n",
       "<tr>\n",
       "  <th>Covariance Type:</th>      <td>nonrobust</td>    <th>                     </th>     <td> </td>    \n",
       "</tr>\n",
       "</table>\n",
       "<table class=\"simpletable\">\n",
       "<tr>\n",
       "    <td></td>       <th>coef</th>     <th>std err</th>      <th>t</th>      <th>P>|t|</th>  <th>[0.025</th>    <th>0.975]</th>  \n",
       "</tr>\n",
       "<tr>\n",
       "  <th>const</th> <td>-7568.5210</td> <td> 1420.561</td> <td>   -5.328</td> <td> 0.000</td> <td>-1.04e+04</td> <td>-4783.768</td>\n",
       "</tr>\n",
       "<tr>\n",
       "  <th>x1</th>    <td>   -9.6925</td> <td>    2.290</td> <td>   -4.232</td> <td> 0.000</td> <td>  -14.182</td> <td>   -5.203</td>\n",
       "</tr>\n",
       "<tr>\n",
       "  <th>x2</th>    <td>   -0.4604</td> <td>    0.032</td> <td>  -14.362</td> <td> 0.000</td> <td>   -0.523</td> <td>   -0.398</td>\n",
       "</tr>\n",
       "<tr>\n",
       "  <th>x3</th>    <td>   15.7203</td> <td>    2.753</td> <td>    5.711</td> <td> 0.000</td> <td>   10.324</td> <td>   21.117</td>\n",
       "</tr>\n",
       "<tr>\n",
       "  <th>x4</th>    <td>    3.7204</td> <td>    0.974</td> <td>    3.818</td> <td> 0.000</td> <td>    1.810</td> <td>    5.630</td>\n",
       "</tr>\n",
       "<tr>\n",
       "  <th>x5</th>    <td>    0.0195</td> <td>    0.002</td> <td>    8.112</td> <td> 0.000</td> <td>    0.015</td> <td>    0.024</td>\n",
       "</tr>\n",
       "<tr>\n",
       "  <th>x6</th>    <td>    0.0082</td> <td>    0.001</td> <td>    5.663</td> <td> 0.000</td> <td>    0.005</td> <td>    0.011</td>\n",
       "</tr>\n",
       "<tr>\n",
       "  <th>x7</th>    <td>    0.0070</td> <td>    0.002</td> <td>    3.174</td> <td> 0.002</td> <td>    0.003</td> <td>    0.011</td>\n",
       "</tr>\n",
       "<tr>\n",
       "  <th>x8</th>    <td>   -0.0055</td> <td>    0.001</td> <td>   -5.742</td> <td> 0.000</td> <td>   -0.007</td> <td>   -0.004</td>\n",
       "</tr>\n",
       "<tr>\n",
       "  <th>x9</th>    <td>   -0.0076</td> <td>    0.001</td> <td>   -5.726</td> <td> 0.000</td> <td>   -0.010</td> <td>   -0.005</td>\n",
       "</tr>\n",
       "<tr>\n",
       "  <th>x10</th>   <td>   -0.0034</td> <td>    0.001</td> <td>   -3.619</td> <td> 0.000</td> <td>   -0.005</td> <td>   -0.002</td>\n",
       "</tr>\n",
       "<tr>\n",
       "  <th>x11</th>   <td>   -0.0019</td> <td>    0.000</td> <td>   -7.046</td> <td> 0.000</td> <td>   -0.002</td> <td>   -0.001</td>\n",
       "</tr>\n",
       "</table>\n",
       "<table class=\"simpletable\">\n",
       "<tr>\n",
       "  <th>Omnibus:</th>       <td>1185.647</td> <th>  Durbin-Watson:     </th> <td>   2.002</td>\n",
       "</tr>\n",
       "<tr>\n",
       "  <th>Prob(Omnibus):</th>  <td> 0.000</td>  <th>  Jarque-Bera (JB):  </th> <td>8149.657</td>\n",
       "</tr>\n",
       "<tr>\n",
       "  <th>Skew:</th>           <td>-0.670</td>  <th>  Prob(JB):          </th> <td>    0.00</td>\n",
       "</tr>\n",
       "<tr>\n",
       "  <th>Kurtosis:</th>       <td> 8.235</td>  <th>  Cond. No.          </th> <td>2.83e+10</td>\n",
       "</tr>\n",
       "</table><br/><br/>Notes:<br/>[1] Standard Errors assume that the covariance matrix of the errors is correctly specified.<br/>[2] The condition number is large, 2.83e+10. This might indicate that there are<br/>strong multicollinearity or other numerical problems."
      ],
      "text/plain": [
       "<class 'statsmodels.iolib.summary.Summary'>\n",
       "\"\"\"\n",
       "                            OLS Regression Results                            \n",
       "==============================================================================\n",
       "Dep. Variable:                     PE   R-squared:                       0.938\n",
       "Model:                            OLS   Adj. R-squared:                  0.938\n",
       "Method:                 Least Squares   F-statistic:                     9258.\n",
       "Date:                Mon, 23 May 2022   Prob (F-statistic):               0.00\n",
       "Time:                        13:49:34   Log-Likelihood:                -19161.\n",
       "No. Observations:                6697   AIC:                         3.835e+04\n",
       "Df Residuals:                    6685   BIC:                         3.843e+04\n",
       "Df Model:                          11                                         \n",
       "Covariance Type:            nonrobust                                         \n",
       "==============================================================================\n",
       "                 coef    std err          t      P>|t|      [0.025      0.975]\n",
       "------------------------------------------------------------------------------\n",
       "const      -7568.5210   1420.561     -5.328      0.000   -1.04e+04   -4783.768\n",
       "x1            -9.6925      2.290     -4.232      0.000     -14.182      -5.203\n",
       "x2            -0.4604      0.032    -14.362      0.000      -0.523      -0.398\n",
       "x3            15.7203      2.753      5.711      0.000      10.324      21.117\n",
       "x4             3.7204      0.974      3.818      0.000       1.810       5.630\n",
       "x5             0.0195      0.002      8.112      0.000       0.015       0.024\n",
       "x6             0.0082      0.001      5.663      0.000       0.005       0.011\n",
       "x7             0.0070      0.002      3.174      0.002       0.003       0.011\n",
       "x8            -0.0055      0.001     -5.742      0.000      -0.007      -0.004\n",
       "x9            -0.0076      0.001     -5.726      0.000      -0.010      -0.005\n",
       "x10           -0.0034      0.001     -3.619      0.000      -0.005      -0.002\n",
       "x11           -0.0019      0.000     -7.046      0.000      -0.002      -0.001\n",
       "==============================================================================\n",
       "Omnibus:                     1185.647   Durbin-Watson:                   2.002\n",
       "Prob(Omnibus):                  0.000   Jarque-Bera (JB):             8149.657\n",
       "Skew:                          -0.670   Prob(JB):                         0.00\n",
       "Kurtosis:                       8.235   Cond. No.                     2.83e+10\n",
       "==============================================================================\n",
       "\n",
       "Notes:\n",
       "[1] Standard Errors assume that the covariance matrix of the errors is correctly specified.\n",
       "[2] The condition number is large, 2.83e+10. This might indicate that there are\n",
       "strong multicollinearity or other numerical problems.\n",
       "\"\"\""
      ]
     },
     "execution_count": 46,
     "metadata": {},
     "output_type": "execute_result"
    }
   ],
   "source": [
    "#remove the variable x9(V*AP)\n",
    "df4poly_full = df3poly_full.drop(columns=[\"V*AP\"])\n",
    "df4poly_full\n",
    "#Fit Ordinary Least Squares Regression after dropping the x9(V*AP)\n",
    "ols4_full = sm.OLS(y_train, df4poly_full.to_numpy())\n",
    "results4 = ols4_full.fit()\n",
    "\n",
    "\n",
    "results4.summary()\n"
   ]
  },
  {
   "cell_type": "code",
   "execution_count": 47,
   "metadata": {},
   "outputs": [
    {
     "data": {
      "text/html": [
       "<div>\n",
       "<style scoped>\n",
       "    .dataframe tbody tr th:only-of-type {\n",
       "        vertical-align: middle;\n",
       "    }\n",
       "\n",
       "    .dataframe tbody tr th {\n",
       "        vertical-align: top;\n",
       "    }\n",
       "\n",
       "    .dataframe thead th {\n",
       "        text-align: right;\n",
       "    }\n",
       "</style>\n",
       "<table border=\"1\" class=\"dataframe\">\n",
       "  <thead>\n",
       "    <tr style=\"text-align: right;\">\n",
       "      <th></th>\n",
       "      <th>0</th>\n",
       "      <th>AT</th>\n",
       "      <th>V</th>\n",
       "      <th>AP</th>\n",
       "      <th>RH</th>\n",
       "      <th>AT^2</th>\n",
       "      <th>AT*V</th>\n",
       "      <th>AT*AP</th>\n",
       "      <th>AT*RH</th>\n",
       "      <th>AP^2</th>\n",
       "      <th>AP*RH</th>\n",
       "      <th>RH^2</th>\n",
       "    </tr>\n",
       "  </thead>\n",
       "  <tbody>\n",
       "    <tr>\n",
       "      <th>0</th>\n",
       "      <td>1.0</td>\n",
       "      <td>19.64</td>\n",
       "      <td>48.06</td>\n",
       "      <td>1014.81</td>\n",
       "      <td>74.96</td>\n",
       "      <td>385.7296</td>\n",
       "      <td>943.8984</td>\n",
       "      <td>19930.8684</td>\n",
       "      <td>1472.2144</td>\n",
       "      <td>1.029839e+06</td>\n",
       "      <td>76070.1576</td>\n",
       "      <td>5619.0016</td>\n",
       "    </tr>\n",
       "    <tr>\n",
       "      <th>1</th>\n",
       "      <td>1.0</td>\n",
       "      <td>28.26</td>\n",
       "      <td>69.23</td>\n",
       "      <td>1013.01</td>\n",
       "      <td>42.10</td>\n",
       "      <td>798.6276</td>\n",
       "      <td>1956.4398</td>\n",
       "      <td>28627.6626</td>\n",
       "      <td>1189.7460</td>\n",
       "      <td>1.026189e+06</td>\n",
       "      <td>42647.7210</td>\n",
       "      <td>1772.4100</td>\n",
       "    </tr>\n",
       "    <tr>\n",
       "      <th>2</th>\n",
       "      <td>1.0</td>\n",
       "      <td>27.98</td>\n",
       "      <td>67.17</td>\n",
       "      <td>1007.32</td>\n",
       "      <td>75.29</td>\n",
       "      <td>782.8804</td>\n",
       "      <td>1879.4166</td>\n",
       "      <td>28184.8136</td>\n",
       "      <td>2106.6142</td>\n",
       "      <td>1.014694e+06</td>\n",
       "      <td>75841.1228</td>\n",
       "      <td>5668.5841</td>\n",
       "    </tr>\n",
       "    <tr>\n",
       "      <th>3</th>\n",
       "      <td>1.0</td>\n",
       "      <td>28.64</td>\n",
       "      <td>69.23</td>\n",
       "      <td>1013.11</td>\n",
       "      <td>37.13</td>\n",
       "      <td>820.2496</td>\n",
       "      <td>1982.7472</td>\n",
       "      <td>29015.4704</td>\n",
       "      <td>1063.4032</td>\n",
       "      <td>1.026392e+06</td>\n",
       "      <td>37616.7743</td>\n",
       "      <td>1378.6369</td>\n",
       "    </tr>\n",
       "    <tr>\n",
       "      <th>4</th>\n",
       "      <td>1.0</td>\n",
       "      <td>9.34</td>\n",
       "      <td>38.08</td>\n",
       "      <td>1019.56</td>\n",
       "      <td>67.74</td>\n",
       "      <td>87.2356</td>\n",
       "      <td>355.6672</td>\n",
       "      <td>9522.6904</td>\n",
       "      <td>632.6916</td>\n",
       "      <td>1.039503e+06</td>\n",
       "      <td>69064.9944</td>\n",
       "      <td>4588.7076</td>\n",
       "    </tr>\n",
       "    <tr>\n",
       "      <th>...</th>\n",
       "      <td>...</td>\n",
       "      <td>...</td>\n",
       "      <td>...</td>\n",
       "      <td>...</td>\n",
       "      <td>...</td>\n",
       "      <td>...</td>\n",
       "      <td>...</td>\n",
       "      <td>...</td>\n",
       "      <td>...</td>\n",
       "      <td>...</td>\n",
       "      <td>...</td>\n",
       "      <td>...</td>\n",
       "    </tr>\n",
       "    <tr>\n",
       "      <th>2866</th>\n",
       "      <td>1.0</td>\n",
       "      <td>17.90</td>\n",
       "      <td>48.98</td>\n",
       "      <td>1014.17</td>\n",
       "      <td>80.40</td>\n",
       "      <td>320.4100</td>\n",
       "      <td>876.7420</td>\n",
       "      <td>18153.6430</td>\n",
       "      <td>1439.1600</td>\n",
       "      <td>1.028541e+06</td>\n",
       "      <td>81539.2680</td>\n",
       "      <td>6464.1600</td>\n",
       "    </tr>\n",
       "    <tr>\n",
       "      <th>2867</th>\n",
       "      <td>1.0</td>\n",
       "      <td>29.70</td>\n",
       "      <td>57.35</td>\n",
       "      <td>1005.63</td>\n",
       "      <td>57.35</td>\n",
       "      <td>882.0900</td>\n",
       "      <td>1703.2950</td>\n",
       "      <td>29867.2110</td>\n",
       "      <td>1703.2950</td>\n",
       "      <td>1.011292e+06</td>\n",
       "      <td>57672.8805</td>\n",
       "      <td>3289.0225</td>\n",
       "    </tr>\n",
       "    <tr>\n",
       "      <th>2868</th>\n",
       "      <td>1.0</td>\n",
       "      <td>12.52</td>\n",
       "      <td>41.44</td>\n",
       "      <td>1016.08</td>\n",
       "      <td>68.94</td>\n",
       "      <td>156.7504</td>\n",
       "      <td>518.8288</td>\n",
       "      <td>12721.3216</td>\n",
       "      <td>863.1288</td>\n",
       "      <td>1.032419e+06</td>\n",
       "      <td>70048.5552</td>\n",
       "      <td>4752.7236</td>\n",
       "    </tr>\n",
       "    <tr>\n",
       "      <th>2869</th>\n",
       "      <td>1.0</td>\n",
       "      <td>9.75</td>\n",
       "      <td>40.81</td>\n",
       "      <td>1026.00</td>\n",
       "      <td>84.44</td>\n",
       "      <td>95.0625</td>\n",
       "      <td>397.8975</td>\n",
       "      <td>10003.5000</td>\n",
       "      <td>823.2900</td>\n",
       "      <td>1.052676e+06</td>\n",
       "      <td>86635.4400</td>\n",
       "      <td>7130.1136</td>\n",
       "    </tr>\n",
       "    <tr>\n",
       "      <th>2870</th>\n",
       "      <td>1.0</td>\n",
       "      <td>23.61</td>\n",
       "      <td>63.94</td>\n",
       "      <td>1012.90</td>\n",
       "      <td>87.06</td>\n",
       "      <td>557.4321</td>\n",
       "      <td>1509.6234</td>\n",
       "      <td>23914.5690</td>\n",
       "      <td>2055.4866</td>\n",
       "      <td>1.025966e+06</td>\n",
       "      <td>88183.0740</td>\n",
       "      <td>7579.4436</td>\n",
       "    </tr>\n",
       "  </tbody>\n",
       "</table>\n",
       "<p>2871 rows × 12 columns</p>\n",
       "</div>"
      ],
      "text/plain": [
       "        0     AT      V       AP     RH      AT^2       AT*V       AT*AP  \\\n",
       "0     1.0  19.64  48.06  1014.81  74.96  385.7296   943.8984  19930.8684   \n",
       "1     1.0  28.26  69.23  1013.01  42.10  798.6276  1956.4398  28627.6626   \n",
       "2     1.0  27.98  67.17  1007.32  75.29  782.8804  1879.4166  28184.8136   \n",
       "3     1.0  28.64  69.23  1013.11  37.13  820.2496  1982.7472  29015.4704   \n",
       "4     1.0   9.34  38.08  1019.56  67.74   87.2356   355.6672   9522.6904   \n",
       "...   ...    ...    ...      ...    ...       ...        ...         ...   \n",
       "2866  1.0  17.90  48.98  1014.17  80.40  320.4100   876.7420  18153.6430   \n",
       "2867  1.0  29.70  57.35  1005.63  57.35  882.0900  1703.2950  29867.2110   \n",
       "2868  1.0  12.52  41.44  1016.08  68.94  156.7504   518.8288  12721.3216   \n",
       "2869  1.0   9.75  40.81  1026.00  84.44   95.0625   397.8975  10003.5000   \n",
       "2870  1.0  23.61  63.94  1012.90  87.06  557.4321  1509.6234  23914.5690   \n",
       "\n",
       "          AT*RH          AP^2       AP*RH       RH^2  \n",
       "0     1472.2144  1.029839e+06  76070.1576  5619.0016  \n",
       "1     1189.7460  1.026189e+06  42647.7210  1772.4100  \n",
       "2     2106.6142  1.014694e+06  75841.1228  5668.5841  \n",
       "3     1063.4032  1.026392e+06  37616.7743  1378.6369  \n",
       "4      632.6916  1.039503e+06  69064.9944  4588.7076  \n",
       "...         ...           ...         ...        ...  \n",
       "2866  1439.1600  1.028541e+06  81539.2680  6464.1600  \n",
       "2867  1703.2950  1.011292e+06  57672.8805  3289.0225  \n",
       "2868   863.1288  1.032419e+06  70048.5552  4752.7236  \n",
       "2869   823.2900  1.052676e+06  86635.4400  7130.1136  \n",
       "2870  2055.4866  1.025966e+06  88183.0740  7579.4436  \n",
       "\n",
       "[2871 rows x 12 columns]"
      ]
     },
     "execution_count": 47,
     "metadata": {},
     "output_type": "execute_result"
    }
   ],
   "source": [
    "X_test_poly = pd.DataFrame(X_test_poly)\n",
    "X_test_poly = X_test_poly.rename(columns={1: \"AT\", 2: \"V\",3:\"AP\",4:\"RH\",5:\"AT^2\",6:\"AT*V\",7:\"AT*AP\",8:\"AT*RH\",\n",
    "                             9:\"V^2\",10:\"V*AP\",11:\"V*RH\",12:\"AP^2\",13:\"AP*RH\",14:\"RH^2\"})\n",
    "X_test_poly = X_test_poly.drop(columns=[\"V*RH\",\"V^2\",\"V*AP\"])\n",
    "X_test_poly"
   ]
  },
  {
   "cell_type": "code",
   "execution_count": 48,
   "metadata": {},
   "outputs": [
    {
     "data": {
      "text/html": [
       "<div>\n",
       "<style scoped>\n",
       "    .dataframe tbody tr th:only-of-type {\n",
       "        vertical-align: middle;\n",
       "    }\n",
       "\n",
       "    .dataframe tbody tr th {\n",
       "        vertical-align: top;\n",
       "    }\n",
       "\n",
       "    .dataframe thead th {\n",
       "        text-align: right;\n",
       "    }\n",
       "</style>\n",
       "<table border=\"1\" class=\"dataframe\">\n",
       "  <thead>\n",
       "    <tr style=\"text-align: right;\">\n",
       "      <th></th>\n",
       "      <th>0</th>\n",
       "      <th>AT</th>\n",
       "      <th>V</th>\n",
       "      <th>AP</th>\n",
       "      <th>RH</th>\n",
       "      <th>AT^2</th>\n",
       "      <th>AT*V</th>\n",
       "      <th>AT*AP</th>\n",
       "      <th>AT*RH</th>\n",
       "      <th>AP^2</th>\n",
       "      <th>AP*RH</th>\n",
       "      <th>RH^2</th>\n",
       "    </tr>\n",
       "  </thead>\n",
       "  <tbody>\n",
       "    <tr>\n",
       "      <th>0</th>\n",
       "      <td>1.0</td>\n",
       "      <td>16.69</td>\n",
       "      <td>44.78</td>\n",
       "      <td>1010.41</td>\n",
       "      <td>58.18</td>\n",
       "      <td>278.5561</td>\n",
       "      <td>747.3782</td>\n",
       "      <td>16863.7429</td>\n",
       "      <td>971.0242</td>\n",
       "      <td>1.020928e+06</td>\n",
       "      <td>58785.6538</td>\n",
       "      <td>3384.9124</td>\n",
       "    </tr>\n",
       "    <tr>\n",
       "      <th>1</th>\n",
       "      <td>1.0</td>\n",
       "      <td>24.12</td>\n",
       "      <td>58.66</td>\n",
       "      <td>1011.55</td>\n",
       "      <td>58.96</td>\n",
       "      <td>581.7744</td>\n",
       "      <td>1414.8792</td>\n",
       "      <td>24398.5860</td>\n",
       "      <td>1422.1152</td>\n",
       "      <td>1.023233e+06</td>\n",
       "      <td>59640.9880</td>\n",
       "      <td>3476.2816</td>\n",
       "    </tr>\n",
       "    <tr>\n",
       "      <th>2</th>\n",
       "      <td>1.0</td>\n",
       "      <td>9.08</td>\n",
       "      <td>40.02</td>\n",
       "      <td>1031.20</td>\n",
       "      <td>75.34</td>\n",
       "      <td>82.4464</td>\n",
       "      <td>363.3816</td>\n",
       "      <td>9363.2960</td>\n",
       "      <td>684.0872</td>\n",
       "      <td>1.063373e+06</td>\n",
       "      <td>77690.6080</td>\n",
       "      <td>5676.1156</td>\n",
       "    </tr>\n",
       "    <tr>\n",
       "      <th>3</th>\n",
       "      <td>1.0</td>\n",
       "      <td>9.60</td>\n",
       "      <td>41.82</td>\n",
       "      <td>1032.93</td>\n",
       "      <td>72.63</td>\n",
       "      <td>92.1600</td>\n",
       "      <td>401.4720</td>\n",
       "      <td>9916.1280</td>\n",
       "      <td>697.2480</td>\n",
       "      <td>1.066944e+06</td>\n",
       "      <td>75021.7059</td>\n",
       "      <td>5275.1169</td>\n",
       "    </tr>\n",
       "    <tr>\n",
       "      <th>4</th>\n",
       "      <td>1.0</td>\n",
       "      <td>20.77</td>\n",
       "      <td>56.85</td>\n",
       "      <td>1012.40</td>\n",
       "      <td>83.63</td>\n",
       "      <td>431.3929</td>\n",
       "      <td>1180.7745</td>\n",
       "      <td>21027.5480</td>\n",
       "      <td>1736.9951</td>\n",
       "      <td>1.024954e+06</td>\n",
       "      <td>84667.0120</td>\n",
       "      <td>6993.9769</td>\n",
       "    </tr>\n",
       "    <tr>\n",
       "      <th>...</th>\n",
       "      <td>...</td>\n",
       "      <td>...</td>\n",
       "      <td>...</td>\n",
       "      <td>...</td>\n",
       "      <td>...</td>\n",
       "      <td>...</td>\n",
       "      <td>...</td>\n",
       "      <td>...</td>\n",
       "      <td>...</td>\n",
       "      <td>...</td>\n",
       "      <td>...</td>\n",
       "      <td>...</td>\n",
       "    </tr>\n",
       "    <tr>\n",
       "      <th>6692</th>\n",
       "      <td>1.0</td>\n",
       "      <td>23.39</td>\n",
       "      <td>61.87</td>\n",
       "      <td>1010.35</td>\n",
       "      <td>48.91</td>\n",
       "      <td>547.0921</td>\n",
       "      <td>1447.1393</td>\n",
       "      <td>23632.0865</td>\n",
       "      <td>1144.0049</td>\n",
       "      <td>1.020807e+06</td>\n",
       "      <td>49416.2185</td>\n",
       "      <td>2392.1881</td>\n",
       "    </tr>\n",
       "    <tr>\n",
       "      <th>6693</th>\n",
       "      <td>1.0</td>\n",
       "      <td>11.63</td>\n",
       "      <td>40.55</td>\n",
       "      <td>1022.89</td>\n",
       "      <td>87.12</td>\n",
       "      <td>135.2569</td>\n",
       "      <td>471.5965</td>\n",
       "      <td>11896.2107</td>\n",
       "      <td>1013.2056</td>\n",
       "      <td>1.046304e+06</td>\n",
       "      <td>89114.1768</td>\n",
       "      <td>7589.8944</td>\n",
       "    </tr>\n",
       "    <tr>\n",
       "      <th>6694</th>\n",
       "      <td>1.0</td>\n",
       "      <td>27.79</td>\n",
       "      <td>69.23</td>\n",
       "      <td>1012.86</td>\n",
       "      <td>45.71</td>\n",
       "      <td>772.2841</td>\n",
       "      <td>1923.9017</td>\n",
       "      <td>28147.3794</td>\n",
       "      <td>1270.2809</td>\n",
       "      <td>1.025885e+06</td>\n",
       "      <td>46297.8306</td>\n",
       "      <td>2089.4041</td>\n",
       "    </tr>\n",
       "    <tr>\n",
       "      <th>6695</th>\n",
       "      <td>1.0</td>\n",
       "      <td>12.26</td>\n",
       "      <td>41.50</td>\n",
       "      <td>1014.87</td>\n",
       "      <td>89.41</td>\n",
       "      <td>150.3076</td>\n",
       "      <td>508.7900</td>\n",
       "      <td>12442.3062</td>\n",
       "      <td>1096.1666</td>\n",
       "      <td>1.029961e+06</td>\n",
       "      <td>90739.5267</td>\n",
       "      <td>7994.1481</td>\n",
       "    </tr>\n",
       "    <tr>\n",
       "      <th>6696</th>\n",
       "      <td>1.0</td>\n",
       "      <td>11.75</td>\n",
       "      <td>40.55</td>\n",
       "      <td>1018.09</td>\n",
       "      <td>97.70</td>\n",
       "      <td>138.0625</td>\n",
       "      <td>476.4625</td>\n",
       "      <td>11962.5575</td>\n",
       "      <td>1147.9750</td>\n",
       "      <td>1.036507e+06</td>\n",
       "      <td>99467.3930</td>\n",
       "      <td>9545.2900</td>\n",
       "    </tr>\n",
       "  </tbody>\n",
       "</table>\n",
       "<p>6697 rows × 12 columns</p>\n",
       "</div>"
      ],
      "text/plain": [
       "        0     AT      V       AP     RH      AT^2       AT*V       AT*AP  \\\n",
       "0     1.0  16.69  44.78  1010.41  58.18  278.5561   747.3782  16863.7429   \n",
       "1     1.0  24.12  58.66  1011.55  58.96  581.7744  1414.8792  24398.5860   \n",
       "2     1.0   9.08  40.02  1031.20  75.34   82.4464   363.3816   9363.2960   \n",
       "3     1.0   9.60  41.82  1032.93  72.63   92.1600   401.4720   9916.1280   \n",
       "4     1.0  20.77  56.85  1012.40  83.63  431.3929  1180.7745  21027.5480   \n",
       "...   ...    ...    ...      ...    ...       ...        ...         ...   \n",
       "6692  1.0  23.39  61.87  1010.35  48.91  547.0921  1447.1393  23632.0865   \n",
       "6693  1.0  11.63  40.55  1022.89  87.12  135.2569   471.5965  11896.2107   \n",
       "6694  1.0  27.79  69.23  1012.86  45.71  772.2841  1923.9017  28147.3794   \n",
       "6695  1.0  12.26  41.50  1014.87  89.41  150.3076   508.7900  12442.3062   \n",
       "6696  1.0  11.75  40.55  1018.09  97.70  138.0625   476.4625  11962.5575   \n",
       "\n",
       "          AT*RH          AP^2       AP*RH       RH^2  \n",
       "0      971.0242  1.020928e+06  58785.6538  3384.9124  \n",
       "1     1422.1152  1.023233e+06  59640.9880  3476.2816  \n",
       "2      684.0872  1.063373e+06  77690.6080  5676.1156  \n",
       "3      697.2480  1.066944e+06  75021.7059  5275.1169  \n",
       "4     1736.9951  1.024954e+06  84667.0120  6993.9769  \n",
       "...         ...           ...         ...        ...  \n",
       "6692  1144.0049  1.020807e+06  49416.2185  2392.1881  \n",
       "6693  1013.2056  1.046304e+06  89114.1768  7589.8944  \n",
       "6694  1270.2809  1.025885e+06  46297.8306  2089.4041  \n",
       "6695  1096.1666  1.029961e+06  90739.5267  7994.1481  \n",
       "6696  1147.9750  1.036507e+06  99467.3930  9545.2900  \n",
       "\n",
       "[6697 rows x 12 columns]"
      ]
     },
     "execution_count": 48,
     "metadata": {},
     "output_type": "execute_result"
    }
   ],
   "source": [
    "#remove variables in X_train\n",
    "X_train_poly = pd.DataFrame(mpoly_full)\n",
    "X_train_poly = X_train_poly.rename(columns={1: \"AT\", 2: \"V\",3:\"AP\",4:\"RH\",5:\"AT^2\",6:\"AT*V\",7:\"AT*AP\",8:\"AT*RH\",\n",
    "                             9:\"V^2\",10:\"V*AP\",11:\"V*RH\",12:\"AP^2\",13:\"AP*RH\",14:\"RH^2\"})\n",
    "X_train_poly = X_train_poly.drop(columns=[\"V*RH\",\"V^2\",\"V*AP\"])\n",
    "X_train_poly"
   ]
  },
  {
   "cell_type": "code",
   "execution_count": 49,
   "metadata": {},
   "outputs": [
    {
     "name": "stdout",
     "output_type": "stream",
     "text": [
      "min test MSE of polynomial after removal: \n",
      " 18.66004049509843\n",
      "min train MSE of polynomial after removal: \n",
      " 17.890842773184744\n"
     ]
    }
   ],
   "source": [
    "#predict test MSE\n",
    "yh_new_test = results4.predict(X_test_poly)\n",
    "mean_squared_error(y_test, yh_new_test)\n",
    "\n",
    "yh_new_train = results4.predict(X_train_poly)\n",
    "mean_squared_error(y_train, yh_new_train)\n",
    "\n",
    "#min test MSE of polynomial after removal\n",
    "print('min test MSE of polynomial after removal: \\n', mean_squared_error(y_test, yh_new_test))\n",
    "\n",
    "#min train MSE of polynomial after removal\n",
    "print('min train MSE of polynomial after removal: \\n', mean_squared_error(y_train, yh_new_train))\n"
   ]
  },
  {
   "cell_type": "code",
   "execution_count": 50,
   "metadata": {},
   "outputs": [
    {
     "name": "stdout",
     "output_type": "stream",
     "text": [
      "min test MSE of multiple regression: \n",
      " 21.239856938225493\n",
      "min train MSE of multiple regression: \n",
      " 20.580839725738695\n",
      "min test MSE of polynomial after removal: \n",
      " 18.66004049509843\n",
      "min train MSE of polynomial after removal: \n",
      " 17.890842773184744\n"
     ]
    }
   ],
   "source": [
    "#plot all the test MSE\n",
    "\n",
    "#min test MSE of multiple regression\n",
    "print('min test MSE of multiple regression: \\n', mean_squared_error(y_test, yh_mul_test))\n",
    "\n",
    "#min train MSE of multiple regression\n",
    "print('min train MSE of multiple regression: \\n', mean_squared_error(y_train, yh_mul_train))\n",
    "\n",
    "#min test MSE of polynomial after removal\n",
    "print('min test MSE of polynomial after removal: \\n', mean_squared_error(y_test, yh_new_test))\n",
    "\n",
    "#min train MSE of polynomial after removal\n",
    "print('min train MSE of polynomial after removal: \\n', mean_squared_error(y_train, yh_new_train))\n"
   ]
  },
  {
   "cell_type": "markdown",
   "metadata": {},
   "source": [
    " (i) KNN Regression:\n",
    "i. Perform k-nearest neighbor regression for this dataset using both normalized and raw features. Find the value of k ∈ {1,2,...,100} that gives you the best fit. Plot the train and test errors in terms of 1/k.\n"
   ]
  },
  {
   "cell_type": "code",
   "execution_count": 51,
   "metadata": {},
   "outputs": [],
   "source": [
    "from sklearn.neighbors import KNeighborsRegressor\n",
    "from sklearn.metrics import mean_squared_error\n",
    "from sklearn.preprocessing import MinMaxScaler"
   ]
  },
  {
   "cell_type": "code",
   "execution_count": 52,
   "metadata": {},
   "outputs": [],
   "source": [
    "#normalized data\n",
    "scaler = MinMaxScaler()\n",
    "scaler.fit(X_train)\n",
    "\n",
    "X_train_norm = scaler.transform(X_train)\n",
    "X_test_norm = scaler.transform(X_test)\n"
   ]
  },
  {
   "cell_type": "code",
   "execution_count": 53,
   "metadata": {},
   "outputs": [
    {
     "name": "stdout",
     "output_type": "stream",
     "text": [
      "test MSE : \n",
      " [18.298757053291535, 15.70030773249738, 14.605432307751842, 14.291333431295715, 14.446174280738413, 14.440665462092179, 14.589314679518612, 14.565395912791702, 14.697964683875783, 14.829830284221515, 14.928246476448717, 14.952814519234483, 15.015993745865101, 15.096609328506736, 15.17638280181121, 15.24715122956396, 15.313855807327545, 15.466045754587167, 15.498797709640112, 15.525547949494953, 15.547501491180478, 15.638399618873276, 15.67021372515325, 15.77838574889218, 15.85592394655521, 15.924167711753329, 15.958775281551155, 16.028435809982305, 16.08163544253889, 16.129581290645927, 16.200101208359026, 16.22597718918713, 16.237563310122216, 16.282047582675578, 16.344165121645727, 16.419632952045998, 16.46196982957709, 16.486593035643466, 16.549217526416985, 16.629770583681648, 16.685850679371622, 16.735558964261422, 16.78347266606875, 16.83308400733971, 16.874635239048633, 16.905694396444726, 16.933415421176058, 16.989073068674656, 17.010629371745292, 17.03836097625915, 17.073632953592995, 17.114298588800686, 17.16002425726682, 17.184329627527347, 17.21446137645478, 17.24554574510055, 17.26488095003162, 17.281175146044067, 17.31497221720419, 17.35205343695577, 17.383477144340947, 17.422901971280876, 17.433562215468395, 17.482235548592744, 17.52094935036552, 17.545670007794612, 17.571418003053868, 17.59988302890798, 17.635768431404262, 17.673527747190413, 17.69776707189828, 17.7144267353989, 17.729870224004497, 17.76120311199322, 17.825825767573054, 17.85711625519452, 17.879488360072315, 17.91577846053315, 17.951293633962127, 17.97032373002113, 17.997736874672555, 18.027006438241376, 18.054079391661137, 18.08451726453091, 18.121563653897276, 18.14101075512401, 18.16081816603398, 18.17742567240965, 18.185222812041808, 18.209795405923863, 18.21851054037958, 18.226989705888155, 18.240097386848245, 18.248918539416106, 18.25153143738849, 18.275321326558057, 18.30181241686715, 18.32277574711629, 18.34117585114805, 18.353529042772553]\n",
      "location of min test MSE: \n",
      " 4\n",
      "location of min train MSE: \n",
      " 1\n",
      "min test MSE after normalized when k=4: \n",
      " 14.291333431295715\n",
      "min train MSE after normalized when k=1: \n",
      " 0.0\n"
     ]
    }
   ],
   "source": [
    "#knn regression using normalized features\n",
    "kcase = range(1,101,1)\n",
    "error_test_norm = []\n",
    "error_train_norm = []\n",
    "\n",
    "for k in kcase:\n",
    "    classifier_norm = KNeighborsRegressor(n_neighbors = k)\n",
    "    classifier_norm.fit(X_train_norm, y_train)\n",
    "    #test error\n",
    "    y_pred_test_norm = classifier_norm.predict(X_test_norm)\n",
    "    error_test_norm.append(mean_squared_error(y_test, y_pred_test_norm))\n",
    "    #train error\n",
    "    y_pred_train_norm = classifier_norm.predict(X_train_norm)\n",
    "    error_train_norm.append(mean_squared_error(y_train, y_pred_train_norm))\n",
    "    #location of test MSE of normalized\n",
    "    position_test_norm = error_test_norm.index(min(error_test_norm))\n",
    "    #location of train MSE of normalized\n",
    "    position_train_norm = error_train_norm.index(min(error_train_norm))\n",
    "    \n",
    "print('test MSE : \\n', error_test_norm)\n",
    "#location of the minimum test MSE:\n",
    "print('location of min test MSE: \\n', position_test_norm + 1)\n",
    "#location of the minimum train MSE:\n",
    "print('location of min train MSE: \\n', position_train_norm + 1)\n",
    "#minimum test MSE after normalized\n",
    "print('min test MSE after normalized when k=4: \\n', min(error_test_norm))\n",
    "#minimum train MSE after normalized\n",
    "print('min train MSE after normalized when k=1: \\n', min(error_train_norm))\n",
    "#train MSE\n",
    "#print('train MSE : \\n', error_train_norm)\n"
   ]
  },
  {
   "cell_type": "code",
   "execution_count": 54,
   "metadata": {},
   "outputs": [
    {
     "name": "stdout",
     "output_type": "stream",
     "text": [
      "According to the minimum test MSE we got above, when k=4 will best fit the model(normalized data). \n",
      "And the minimum test MSE when k=4 is 14.291333431295715\n"
     ]
    }
   ],
   "source": [
    "print('According to the minimum test MSE we got above, when k=4 will best fit the model(normalized data). ')\n",
    "print('And the minimum test MSE when k=4 is 14.291333431295715')"
   ]
  },
  {
   "cell_type": "code",
   "execution_count": 55,
   "metadata": {},
   "outputs": [
    {
     "data": {
      "text/plain": [
       "Text(0, 0.5, 'MSE')"
      ]
     },
     "execution_count": 55,
     "metadata": {},
     "output_type": "execute_result"
    },
    {
     "data": {
      "image/png": "[encoded data removed]",
      "text/plain": [
       "<Figure size 432x288 with 1 Axes>"
      ]
     },
     "metadata": {
      "needs_background": "light"
     },
     "output_type": "display_data"
    }
   ],
   "source": [
    "k_value=[1/K for K in range(1,101,1)]\n",
    "\n",
    "plt.title(\"Train and Test Errors of Normalized Data\")\n",
    "plt.plot(k_value, error_train_norm, label='train_error')\n",
    "plt.plot(k_value, error_test_norm, label='test_error')\n",
    "plt.legend()\n",
    "plt.xlabel('1/k')\n",
    "plt.ylabel('MSE') "
   ]
  },
  {
   "cell_type": "code",
   "execution_count": 56,
   "metadata": {},
   "outputs": [
    {
     "name": "stdout",
     "output_type": "stream",
     "text": [
      "test MSE : \n",
      " [20.33254312086381, 17.344087408568438, 16.33884019892411, 15.810754571577844, 15.726819842563568, 15.794225175122872, 15.842648764207883, 15.990190370842042, 16.109829215526915, 16.335137953326367, 16.414284256068814, 16.482868285827628, 16.58231350229494, 16.71425301146582, 16.79296862881691, 16.90965532126219, 17.02722004907686, 17.134278452468493, 17.310480908232194, 17.373924801027517, 17.442466371905784, 17.498352922499436, 17.584079603478894, 17.64361780804937, 17.64833115870429, 17.76321398781738, 17.817518458842247, 17.89620781402164, 17.956317007915885, 18.0189451596811, 18.05177540861266, 18.11093370368556, 18.19286491682923, 18.244259173195985, 18.282016356073047, 18.34946447717383, 18.42528037270516, 18.450741642955485, 18.519293307350864, 18.533526079915532, 18.57559931203976, 18.69016159677154, 18.758736560623124, 18.782734520612237, 18.873408307700263, 18.94083746527593, 18.99112118842222, 19.042050526457103, 19.118495659926914, 19.157620111097188, 19.196627364163856, 19.260764987742142, 19.325691980484194, 19.38678368698336, 19.435195502013585, 19.522932888415284, 19.560709855798937, 19.622393435927595, 19.680906124364615, 19.72215005174347, 19.77340952668591, 19.81330420999255, 19.84921409590293, 19.903224032859573, 19.95696848175697, 19.999329550172252, 20.05364585973888, 20.11345864100527, 20.164951373720253, 20.228399969455275, 20.27513721988229, 20.33130179251675, 20.381485217953017, 20.428539552606498, 20.46607008220443, 20.514841450727303, 20.576669830231292, 20.61430329947093, 20.62481132533249, 20.686449253151117, 20.72661206733836, 20.751731384549494, 20.79515914267535, 20.837412694611665, 20.867731211419756, 20.914416352344034, 20.954279336045897, 21.00143931816922, 21.01468936394755, 21.074850809499846, 21.133794229626204, 21.171054879744734, 21.22845821214847, 21.275010855826487, 21.303437673666647, 21.35381768528268, 21.40738692317495, 21.44089554202205, 21.47949046479842, 21.5083114550923]\n",
      "location of min test MSE : \n",
      " 5\n",
      "location of min train MSE : \n",
      " 1\n",
      "min test MSE when k=5: \n",
      " 15.726819842563568\n",
      "min train MSE when k=1: \n",
      " 0.0\n"
     ]
    }
   ],
   "source": [
    "# knn regression using raw features\n",
    "kcase = range(1,101,1)\n",
    "error_test_raw = []\n",
    "error_train_raw = []\n",
    "\n",
    "for k in kcase:\n",
    "    classifier_raw = KNeighborsRegressor(n_neighbors = k)\n",
    "    classifier_raw.fit(X_train, y_train.values.ravel())\n",
    "    #MSE\n",
    "    y_pred_test_raw = classifier_raw.predict(X_test)\n",
    "    error_test_raw.append(mean_squared_error(y_test, y_pred_test_raw))\n",
    "    #MSE\n",
    "    y_pred_train_raw = classifier_raw.predict(X_train)\n",
    "    error_train_raw.append(mean_squared_error(y_train, y_pred_train_raw))\n",
    "    #location of min test MSE\n",
    "    position_test_raw = error_test_raw.index(min(error_test_raw))\n",
    "    #location of min train MSE\n",
    "    position_train_raw = error_train_raw.index(min(error_train_raw))\n",
    "\n",
    "print('test MSE : \\n', error_test_raw)\n",
    "#location of the minimum test MSE:\n",
    "print('location of min test MSE : \\n', position_test_raw + 1)\n",
    "#location of the minimum train MSE:\n",
    "print('location of min train MSE : \\n', position_train_raw + 1)\n",
    "#minimum test MSE \n",
    "print('min test MSE when k=5: \\n', min(error_test_raw))\n",
    "#minimum train MSE\n",
    "print('min train MSE when k=1: \\n', min(error_train_raw))\n",
    "\n"
   ]
  },
  {
   "cell_type": "code",
   "execution_count": 57,
   "metadata": {},
   "outputs": [
    {
     "name": "stdout",
     "output_type": "stream",
     "text": [
      "According to the minimum test MSE we got above, when k=5 will best fit the model(raw data). \n",
      "And the minimum test MSE when k=5 is 15.726819842563568\n"
     ]
    }
   ],
   "source": [
    "print('According to the minimum test MSE we got above, when k=5 will best fit the model(raw data). ')\n",
    "print('And the minimum test MSE when k=5 is 15.726819842563568')"
   ]
  },
  {
   "cell_type": "code",
   "execution_count": 58,
   "metadata": {},
   "outputs": [
    {
     "data": {
      "text/plain": [
       "Text(0, 0.5, 'MSE')"
      ]
     },
     "execution_count": 58,
     "metadata": {},
     "output_type": "execute_result"
    },
    {
     "data": {
      "image/png": "[encoded data removed]",
      "text/plain": [
       "<Figure size 432x288 with 1 Axes>"
      ]
     },
     "metadata": {
      "needs_background": "light"
     },
     "output_type": "display_data"
    }
   ],
   "source": [
    "k_value=[1/K for K in range(1,101,1)]\n",
    "\n",
    "plt.title(\"Train and Test Errors of Raw Data \")\n",
    "plt.plot(k_value, error_train_raw, label='train_error')\n",
    "plt.plot(k_value, error_test_raw, label='test_error')\n",
    "plt.legend()\n",
    "plt.xlabel('1/k')\n",
    "plt.ylabel('MSE')                       "
   ]
  },
  {
   "cell_type": "markdown",
   "metadata": {},
   "source": [
    "(j) Compare the results of KNN Regression with the linear regression model that has the smallest test error and provide your analysis."
   ]
  },
  {
   "cell_type": "code",
   "execution_count": 59,
   "metadata": {},
   "outputs": [
    {
     "name": "stdout",
     "output_type": "stream",
     "text": [
      "min test MSE of KNN Regression of raw data when k=5: \n",
      " 15.726819842563568\n",
      "min test MSE of KNN Regression of normalized data when k=4: \n",
      " 14.291333431295715\n",
      "min test MSE of polynomial after removal: \n",
      " 18.66004049509843\n",
      "min train MSE of polynomial after removal: \n",
      " 17.890842773184744\n"
     ]
    }
   ],
   "source": [
    "#minimum test MSE of KNN Regression of raw data\n",
    "print('min test MSE of KNN Regression of raw data when k=5: \\n', min(error_test_raw))\n",
    "#minimum test MSE of KNN Regression of normalized data\n",
    "print('min test MSE of KNN Regression of normalized data when k=4: \\n', min(error_test_norm))\n",
    "\n",
    "#min test MSE of polynomial after removal\n",
    "print('min test MSE of polynomial after removal: \\n', mean_squared_error(y_test, yh_new_test))\n",
    "\n",
    "#min train MSE of polynomial after removal\n",
    "print('min train MSE of polynomial after removal: \\n', mean_squared_error(y_train, yh_new_train))\n"
   ]
  },
  {
   "cell_type": "code",
   "execution_count": null,
   "metadata": {},
   "outputs": [],
   "source": []
  },
  {
   "cell_type": "markdown",
   "metadata": {},
   "source": [
    "2. ISLR: 2.4.1 (p.64)\n",
    "(2.4.1). For each of parts (a) through (d), indicate whether we would generally expect the performance of a flexible    statistical learning method to be better or worse than an inflexible method. Justify your answer.\n",
    "\n",
    "In general, the more flexible your model is, the less bias (in absolute value) and the more variance you’ll get when predicting on a test dataset.\n",
    "But in general, fitting a more flexible model requires estimating a greater number of parameters.\n",
    "These more complex models can lead to a phenomenon known as overfitting the data, which essentially means they follow the errors, or noise, too closely. \n",
    "In general, more flexible statistical methods have higher variance. "
   ]
  },
  {
   "cell_type": "markdown",
   "metadata": {},
   "source": [
    "(a) The sample size n is extremely large, and the number of predictors p is small."
   ]
  },
  {
   "cell_type": "markdown",
   "metadata": {},
   "source": [
    "Ans: A flexible method will fit better, using flexible model is less likely to be overfit with the large sample size n."
   ]
  },
  {
   "cell_type": "markdown",
   "metadata": {},
   "source": [
    "(b) The number of predictors p is extremely large, and the number of observations n is small."
   ]
  },
  {
   "cell_type": "markdown",
   "metadata": {},
   "source": [
    "Ans: An inflexible method will fit better. Small observation size n will easily cause overfitting when using flexible method, since more flexible statistical methods have higher variance."
   ]
  },
  {
   "cell_type": "markdown",
   "metadata": {},
   "source": [
    "(c) The relationship between the predictors and response is highly non-linear."
   ]
  },
  {
   "cell_type": "markdown",
   "metadata": {},
   "source": [
    "Ans: A flexible method will fit better. A flexible method is not highly restrictive."
   ]
  },
  {
   "cell_type": "markdown",
   "metadata": {},
   "source": [
    "(d) The variance of the error terms, i.e. σ2 = Var(ε), is extremely high."
   ]
  },
  {
   "cell_type": "markdown",
   "metadata": {},
   "source": [
    "Ans: An inflexible method will fit better. High variance of flexible method may lead to overfitting the noise."
   ]
  },
  {
   "cell_type": "markdown",
   "metadata": {},
   "source": [
    "3. ISLR: 2.4.7 (p.65)\n",
    "Suppose we wish to use this data set to make a prediction for Y when X1 = X2 = X3 = 0 using K-nearest neighbors.\n"
   ]
  },
  {
   "cell_type": "code",
   "execution_count": 60,
   "metadata": {},
   "outputs": [
    {
     "data": {
      "text/html": [
       "<div>\n",
       "<style scoped>\n",
       "    .dataframe tbody tr th:only-of-type {\n",
       "        vertical-align: middle;\n",
       "    }\n",
       "\n",
       "    .dataframe tbody tr th {\n",
       "        vertical-align: top;\n",
       "    }\n",
       "\n",
       "    .dataframe thead th {\n",
       "        text-align: right;\n",
       "    }\n",
       "</style>\n",
       "<table border=\"1\" class=\"dataframe\">\n",
       "  <thead>\n",
       "    <tr style=\"text-align: right;\">\n",
       "      <th></th>\n",
       "      <th>obs</th>\n",
       "      <th>X1</th>\n",
       "      <th>X2</th>\n",
       "      <th>X3</th>\n",
       "      <th>y</th>\n",
       "    </tr>\n",
       "  </thead>\n",
       "  <tbody>\n",
       "    <tr>\n",
       "      <th>0</th>\n",
       "      <td>1</td>\n",
       "      <td>0</td>\n",
       "      <td>3</td>\n",
       "      <td>0</td>\n",
       "      <td>Red</td>\n",
       "    </tr>\n",
       "    <tr>\n",
       "      <th>1</th>\n",
       "      <td>2</td>\n",
       "      <td>2</td>\n",
       "      <td>0</td>\n",
       "      <td>0</td>\n",
       "      <td>Red</td>\n",
       "    </tr>\n",
       "    <tr>\n",
       "      <th>2</th>\n",
       "      <td>3</td>\n",
       "      <td>0</td>\n",
       "      <td>1</td>\n",
       "      <td>3</td>\n",
       "      <td>Red</td>\n",
       "    </tr>\n",
       "    <tr>\n",
       "      <th>3</th>\n",
       "      <td>4</td>\n",
       "      <td>0</td>\n",
       "      <td>1</td>\n",
       "      <td>2</td>\n",
       "      <td>Green</td>\n",
       "    </tr>\n",
       "    <tr>\n",
       "      <th>4</th>\n",
       "      <td>5</td>\n",
       "      <td>-1</td>\n",
       "      <td>0</td>\n",
       "      <td>1</td>\n",
       "      <td>Green</td>\n",
       "    </tr>\n",
       "    <tr>\n",
       "      <th>5</th>\n",
       "      <td>6</td>\n",
       "      <td>1</td>\n",
       "      <td>1</td>\n",
       "      <td>1</td>\n",
       "      <td>Red</td>\n",
       "    </tr>\n",
       "  </tbody>\n",
       "</table>\n",
       "</div>"
      ],
      "text/plain": [
       "   obs  X1  X2  X3      y\n",
       "0    1   0   3   0    Red\n",
       "1    2   2   0   0    Red\n",
       "2    3   0   1   3    Red\n",
       "3    4   0   1   2  Green\n",
       "4    5  -1   0   1  Green\n",
       "5    6   1   1   1    Red"
      ]
     },
     "execution_count": 60,
     "metadata": {},
     "output_type": "execute_result"
    }
   ],
   "source": [
    "#create a dataframe\n",
    "obs = [1,2,3,4,5,6]\n",
    "X1 = [0, 2, 0, 0, -1,1]\n",
    "X2 = [3, 0, 1, 1, 0, 1]\n",
    "X3 = [0, 0, 3, 2, 1, 1]\n",
    "y = ['Red','Red','Red', 'Green', 'Green','Red']\n",
    "\n",
    "list_tuples = list(zip(obs, X1, X2, X3, y))\n",
    "df3 = pd.DataFrame(list_tuples, columns = ['obs','X1','X2','X3','y'])\n",
    "df3"
   ]
  },
  {
   "cell_type": "markdown",
   "metadata": {},
   "source": [
    "(a)Compute the Euclidean distance between each observation and the test point, X1 = X2 = X3 = 0"
   ]
  },
  {
   "cell_type": "code",
   "execution_count": 61,
   "metadata": {},
   "outputs": [
    {
     "name": "stdout",
     "output_type": "stream",
     "text": [
      "Euclidean distance of obs1: \n",
      " 3.0\n",
      "Euclidean distance of obs2: \n",
      " 2.0\n",
      "Euclidean distance of obs3: \n",
      " 3.1622776601683795\n",
      "Euclidean distance of obs4: \n",
      " 2.23606797749979\n",
      "Euclidean distance of obs5: \n",
      " 1.4142135623730951\n",
      "Euclidean distance of obs6: \n",
      " 1.7320508075688772\n"
     ]
    }
   ],
   "source": [
    "#p1 = sqrt[(0 - 0)^2 + (3 - 0)^2 + (0 - 0)^2] \n",
    "from scipy.spatial import distance\n",
    "p1 = distance.euclidean([0, 0, 0], [0, 3, 0])\n",
    "p2 = distance.euclidean([0, 0, 0], [2, 0, 0])\n",
    "p3 = distance.euclidean([0, 0, 0], [0, 1, 3])\n",
    "p4 = distance.euclidean([0, 0, 0], [0, 1, 2])\n",
    "p5 = distance.euclidean([0, 0, 0], [-1, 0, 1])\n",
    "p6 = distance.euclidean([0, 0, 0], [1, 1, 1])\n",
    "\n",
    "print('Euclidean distance of obs1: \\n', p1)\n",
    "print('Euclidean distance of obs2: \\n', p2)\n",
    "print('Euclidean distance of obs3: \\n', p3)\n",
    "print('Euclidean distance of obs4: \\n', p4)\n",
    "print('Euclidean distance of obs5: \\n', p5)\n",
    "print('Euclidean distance of obs6: \\n', p6)"
   ]
  },
  {
   "cell_type": "markdown",
   "metadata": {},
   "source": [
    "(b) What is our prediction with K = 1? Why?\n"
   ]
  },
  {
   "cell_type": "markdown",
   "metadata": {},
   "source": [
    "Ans: Our test point is (X1,X2,X3)= (0,0,0). According to the euclidiean distance we calculated above in (a), the nearest neighbor of the test point is observation5, which is \"Green\", the test point will be \"Green\"."
   ]
  },
  {
   "cell_type": "markdown",
   "metadata": {},
   "source": [
    "(c) What is our prediction with K = 3? Why?"
   ]
  },
  {
   "cell_type": "markdown",
   "metadata": {},
   "source": [
    "Ans: Our test point is (X1,X2,X3)= (0,0,0). According to the euclidiean distance we calculated above in (a), the three      nearest neighbors of the test point are :\n",
    "1. observation 5, which is \"Green\".  \n",
    "2. observation 6, which is \"Red\".\n",
    "3. observation 2, which is \"Red\".\n",
    "\n",
    "   Using the majority polling decision, the test point will be \"Red\".                                    "
   ]
  },
  {
   "cell_type": "markdown",
   "metadata": {},
   "source": [
    " (d) If the Bayes decision boundary in this problem is highly non-linear, then would we expect the best value for K to     be large or small? Why?"
   ]
  },
  {
   "cell_type": "markdown",
   "metadata": {},
   "source": [
    "Ans: Since the Bayes decision boundary is highly non-linear, we would expect k to be small. Small k has high variance and low bias, which would lead to overfit(not sommoth/non-linear). If k is large, more neighbors can help smoothen the decision boundary, since it will likely cause only a small shift in the position of the line."
   ]
  },
  {
   "cell_type": "code",
   "execution_count": null,
   "metadata": {},
   "outputs": [],
   "source": []
  },
  {
   "cell_type": "code",
   "execution_count": null,
   "metadata": {},
   "outputs": [],
   "source": []
  },
  {
   "cell_type": "code",
   "execution_count": null,
   "metadata": {},
   "outputs": [],
   "source": []
  },
  {
   "cell_type": "code",
   "execution_count": null,
   "metadata": {},
   "outputs": [],
   "source": []
  },
  {
   "cell_type": "code",
   "execution_count": null,
   "metadata": {},
   "outputs": [],
   "source": []
  },
  {
   "cell_type": "code",
   "execution_count": null,
   "metadata": {},
   "outputs": [],
   "source": []
  },
  {
   "cell_type": "code",
   "execution_count": null,
   "metadata": {},
   "outputs": [],
   "source": []
  },
  {
   "cell_type": "code",
   "execution_count": null,
   "metadata": {},
   "outputs": [],
   "source": []
  },
  {
   "cell_type": "code",
   "execution_count": null,
   "metadata": {},
   "outputs": [],
   "source": []
  }
 ],
 "metadata": {
  "kernelspec": {
   "display_name": "Python 3 (ipykernel)",
   "language": "python",
   "name": "python3"
  },
  "language_info": {
   "codemirror_mode": {
    "name": "ipython",
    "version": 3
   },
   "file_extension": ".py",
   "mimetype": "text/x-python",
   "name": "python",
   "nbconvert_exporter": "python",
   "pygments_lexer": "ipython3",
   "version": "3.8.12"
  }
 },
 "nbformat": 4,
 "nbformat_minor": 4
}
